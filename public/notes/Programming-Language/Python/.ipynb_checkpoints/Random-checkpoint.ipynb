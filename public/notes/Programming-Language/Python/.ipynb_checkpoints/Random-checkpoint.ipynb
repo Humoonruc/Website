{
 "cells": [
  {
   "cell_type": "markdown",
   "id": "bcd63f90-a057-48a5-822a-7b06166ce0da",
   "metadata": {},
   "source": [
    "# random\n",
    "\n",
    "| 函数                        | 描述                                    |\n",
    "| --------------------------- | --------------------------------------- |\n",
    "| random.seed()               | 设置随机种子                            |\n",
    "| random.random()             | 获得 [0, 1] 之间的随机数                |\n",
    "| random.randint(a, b)        | 生成一个[a, b]之间的整数                |\n",
    "| random.randrange(m, n[, k]) | 生成一个[m, n)之间以 k 为步长的随机整数 |\n",
    "| random.getrandbits(k)       | 生成一个 k 比特长的随机整数             |\n",
    "| random.uniform(a, b)        | 生成一个[a, b]之间的随机小数            |\n",
    "| random.shuffle(seq)         | 元素随机排列，返回打乱后的序列          |\n",
    "| random.sample(seq, n)       | 无放回抽样，size 为 n                    |\n",
    "| random.choice(seq)          | 有放回抽样，size 为 1         |\n",
    "| random.choices(seq, k=n)          | 有放回抽样，k为关键字参数，表示抽样的size         |\n"
   ]
  },
  {
   "cell_type": "code",
   "execution_count": 35,
   "id": "5d3689b4-031f-4439-a6d6-5296397f0652",
   "metadata": {},
   "outputs": [
    {
     "name": "stdout",
     "output_type": "stream",
     "text": [
      "0.13329769568861738\n",
      "0.4938235283235003\n",
      "0.29082486411388275\n",
      "0.5356823415077901\n",
      "0.21949428919651937\n",
      "0.5769732436242297\n",
      "0.0825042018573856\n",
      "0.10294240982273872\n",
      "0.6306274118234773\n",
      "0.42988627241555133\n"
     ]
    }
   ],
   "source": [
    "import random\n",
    "\n",
    "for i in range(10):\n",
    "    num = random.random()\n",
    "    print(num)"
   ]
  },
  {
   "cell_type": "code",
   "execution_count": 36,
   "id": "c57cb8f1-7d6a-4d01-a60e-49425d541b0b",
   "metadata": {},
   "outputs": [
    {
     "data": {
      "text/plain": [
       "['k', 'a', 'j', 'a', 'j', ';', 'k', 'd', 'j', 'a']"
      ]
     },
     "execution_count": 36,
     "metadata": {},
     "output_type": "execute_result"
    }
   ],
   "source": [
    "random.choices(\"asdfghjkl;\", k=10)"
   ]
  },
  {
   "cell_type": "code",
   "execution_count": 37,
   "id": "aa73858f-5d8f-474c-a6b0-b5c68803036e",
   "metadata": {},
   "outputs": [
    {
     "data": {
      "text/plain": [
       "['a', 's', 'l', 'd', 'f', 'h', 'j', ';', 'g', 'k']"
      ]
     },
     "execution_count": 37,
     "metadata": {},
     "output_type": "execute_result"
    }
   ],
   "source": [
    "random.sample(\"asdfghjkl;\", k=10)"
   ]
  },
  {
   "cell_type": "code",
   "execution_count": 38,
   "id": "5469b78e-f016-44e8-8e27-f2e995578b2f",
   "metadata": {},
   "outputs": [
    {
     "name": "stdout",
     "output_type": "stream",
     "text": [
      "ks\n"
     ]
    }
   ],
   "source": [
    "print(\"\".join(random.choices(\"asdfghjkl;\", k=2)))"
   ]
  },
  {
   "cell_type": "code",
   "execution_count": null,
   "id": "24e5ecdd-a586-41da-b91d-ffacdacda44e",
   "metadata": {},
   "outputs": [],
   "source": []
  },
  {
   "cell_type": "code",
   "execution_count": null,
   "id": "8e0aba10-ea87-4290-bf61-edf6faeb15a3",
   "metadata": {},
   "outputs": [],
   "source": []
  }
 ],
 "metadata": {
  "kernelspec": {
   "display_name": "Python 3 (ipykernel)",
   "language": "python",
   "name": "python3"
  },
  "language_info": {
   "codemirror_mode": {
    "name": "ipython",
    "version": 3
   },
   "file_extension": ".py",
   "mimetype": "text/x-python",
   "name": "python",
   "nbconvert_exporter": "python",
   "pygments_lexer": "ipython3",
   "version": "3.8.13"
  },
  "toc-autonumbering": true
 },
 "nbformat": 4,
 "nbformat_minor": 5
}
