{
 "cells": [
  {
   "cell_type": "raw",
   "metadata": {},
   "source": [
    "---\n",
    "title: 05 函数\n",
    "author: Humoon\n",
    "date: ''\n",
    "format:\n",
    "  html:\n",
    "    toc: true\n",
    "    number-sections: true\n",
    "    code-tools: true\n",
    "    highlight-style: monokai\n",
    "    code-copy: true\n",
    "    self-contained: true\n",
    "execute:\n",
    "  cache: true\n",
    "  daemon: true\n",
    "  output: asis\n",
    "---"
   ]
  },
  {
   "cell_type": "markdown",
   "metadata": {},
   "source": [
    "函数是一种功能的抽象。它有两个作用：`降低编程难度`和`代码复用`。\n",
    "\n",
    "# 定义方式\n",
    "\n",
    "## def 保留字\n",
    "\n",
    "```python\n",
    "def <函数名> (参数):\n",
    "    '''\n",
    "    函数的说明文档\n",
    "    '''\n",
    "    <函数体>\n",
    "    return <返回值>\n",
    "```\n",
    "\n",
    "### 查看说明文档\n",
    "\n",
    "`help(函数名)`或`print(函数名.__doc__)`\n",
    "\n",
    "## lambda 保留字\n",
    "\n",
    "`lambda <参数>: <作为返回值的表达式>`，lambda 语法的定义方式仅适用于一行内表示的函数，可以定义匿名函数"
   ]
  },
  {
   "cell_type": "code",
   "execution_count": 1,
   "metadata": {},
   "outputs": [
    {
     "name": "stdout",
     "output_type": "stream",
     "text": [
      "9\n",
      "125\n",
      "25\n",
      "15.0\n"
     ]
    }
   ],
   "source": [
    "f = lambda x, y: x + y\n",
    "print(f(4,5))\n",
    "\n",
    "def get_math_func(type) :\n",
    "    '''\n",
    "    该函数是一个函数加工厂，返回的是Lambda表达式\n",
    "    '''\n",
    "    if type == 'square':\n",
    "        return lambda n: n * n\n",
    "    elif type == 'cube':\n",
    "        return lambda n: n * n * n\n",
    "    else:\n",
    "        return lambda n: (1 + n) * n / 2\n",
    "\n",
    "# 调用get_math_func()，程序返回一个函数\n",
    "math_func = get_math_func(\"cube\")\n",
    "print(math_func(5)) # 输出125\n",
    "math_func = get_math_func(\"square\")\n",
    "print(math_func(5)) # 输出25\n",
    "math_func = get_math_func(\"other\")\n",
    "print(math_func(5)) # 输出15.0"
   ]
  },
  {
   "cell_type": "markdown",
   "metadata": {},
   "source": [
    "# 参数\n",
    "\n",
    "## 必选参数\n",
    "\n",
    "没有默认值的参数\n",
    "\n",
    "## 可选参数\n",
    "\n",
    "有默认值的参数\n",
    "\n",
    "**函数定义时，可选参数必须放在必选参数之后**，否则Python的解释器会报`SyntaxError`错误，错误消息是：`non-default argument follows default argument`。\n",
    "\n",
    "可选参数降低了函数调用的难度，需要更复杂、更灵活的调用时，可以传递更多的参数来实现。从而无论是简单调用还是复杂调用，函数只需要定义一个。"
   ]
  },
  {
   "cell_type": "code",
   "execution_count": 2,
   "metadata": {},
   "outputs": [
    {
     "name": "stdout",
     "output_type": "stream",
     "text": [
      "Help on function power in module __main__:\n",
      "\n",
      "power(x, n=2)\n",
      "    这是一个 n 次幂函数，默认求平方\n",
      "\n"
     ]
    },
    {
     "data": {
      "text/plain": [
       "25"
      ]
     },
     "execution_count": 2,
     "metadata": {},
     "output_type": "execute_result"
    }
   ],
   "source": [
    "def power(x, n = 2):\n",
    "    '''\n",
    "    这是一个 n 次幂函数，默认求平方\n",
    "    '''\n",
    "    s = 1\n",
    "    while n > 0:\n",
    "        n = n - 1\n",
    "        s = s * x\n",
    "    return s\n",
    "\n",
    "help(power)\n",
    "power(5, 3)\n",
    "power(5) "
   ]
  },
  {
   "cell_type": "markdown",
   "metadata": {},
   "source": [
    "### 可选参数必须指向不变对象\n",
    "\n",
    "例1："
   ]
  },
  {
   "cell_type": "code",
   "execution_count": 3,
   "metadata": {},
   "outputs": [
    {
     "data": {
      "text/plain": [
       "['END', 'END']"
      ]
     },
     "execution_count": 3,
     "metadata": {},
     "output_type": "execute_result"
    }
   ],
   "source": [
    "def add_end(L = []): # []是可变对象\n",
    "    '''\n",
    "    L是一个指针，指向[]这个全局对象\n",
    "    '''\n",
    "    L.append('END')\n",
    "    return L\n",
    "\n",
    "add_end([1, 2, 3]) # L 指向了 [1, 2, 3]\n",
    "add_end(['x', 'y', 'z']) # L 指向了 ['x', 'y', 'z']\n",
    "add_end() # 若指向可变对象，如[]对象改变了，但 L 仍指向它的地址\n",
    "add_end() # L 指向的是 ['END']，同样的执行会得到不同的结果"
   ]
  },
  {
   "cell_type": "markdown",
   "metadata": {},
   "source": [
    "例2："
   ]
  },
  {
   "cell_type": "code",
   "execution_count": 4,
   "metadata": {},
   "outputs": [
    {
     "data": {
      "text/plain": [
       "['END']"
      ]
     },
     "execution_count": 4,
     "metadata": {},
     "output_type": "execute_result"
    }
   ],
   "source": [
    "def add_end(L = None): # None是不变对象\n",
    "    if L is None:\n",
    "        L = [] # []是函数内部声明的局部对象\n",
    "    L.append('END')\n",
    "    return L\n",
    "\n",
    "add_end()\n",
    "add_end()"
   ]
  },
  {
   "cell_type": "markdown",
   "metadata": {},
   "source": [
    "## 可变参数\n",
    "\n",
    "可变参数接受一个长度不确定的tuple，语法为`*参数名`。\n",
    "\n",
    "调用时使用逗号间隔的展开式或`*tuple`标识"
   ]
  },
  {
   "cell_type": "code",
   "execution_count": 5,
   "metadata": {},
   "outputs": [
    {
     "data": {
      "text/plain": [
       "84"
      ]
     },
     "execution_count": 5,
     "metadata": {},
     "output_type": "execute_result"
    }
   ],
   "source": [
    "def calc(*numbers):\n",
    "    sum = 0\n",
    "    for n in numbers:\n",
    "        sum = sum + n * n\n",
    "    return sum\n",
    "\n",
    "calc(1, 3, 5, 7) # 接收展开式\n",
    "calc(*(1, 3, 5, 7)) # 接收 *tuple"
   ]
  },
  {
   "cell_type": "markdown",
   "metadata": {},
   "source": [
    "## 关键字参数\n",
    "\n",
    "关键字参数接受一个可变长度的 dict, 调用时必须为逗号间隔的`key = value`形式，或`**dict`，才能被关键字参数识别\n",
    "\n",
    "关键字参数可以扩展函数的功能。比如，在person函数里，我们保证能接收到name和age这两个参数，但是，如果调用者愿意提供更多的参数，我们也能收到。试想你正在做一个用户注册的功能，除了用户名和年龄是必填项外，其他都是可选项，利用关键字参数来定义这个函数就能满足注册的需求。"
   ]
  },
  {
   "cell_type": "code",
   "execution_count": 6,
   "metadata": {},
   "outputs": [
    {
     "name": "stdout",
     "output_type": "stream",
     "text": [
      "name: Michael age: 30 other: {}\n",
      "name: Bob age: 35 other: {'city': 'Beijing'}\n",
      "name: Adam age: 45 other: {'gender': 'M', 'job': 'Engineer'}\n",
      "name: Jack age: 24 other: {'city': 'Beijing', 'job': 'Engineer'}\n"
     ]
    }
   ],
   "source": [
    "def person(name, age, **kw):\n",
    "    print('name:', name, 'age:', age, 'other:', kw)\n",
    "\n",
    "person('Michael', 30)\n",
    "person('Bob', 35, city='Beijing')\n",
    "person('Adam', 45, gender='M', job='Engineer')\n",
    "\n",
    "extra = {'city': 'Beijing', 'job': 'Engineer'}\n",
    "person('Jack', 24, **extra)"
   ]
  },
  {
   "cell_type": "markdown",
   "metadata": {},
   "source": [
    "## 命名关键字参数\n",
    "\n",
    "语法：`*, 参数名`\n",
    "\n",
    "命名关键字参数若没有默认值，被显式调用，调用时必须传入参数名，否则调用将报错："
   ]
  },
  {
   "cell_type": "code",
   "execution_count": 7,
   "metadata": {},
   "outputs": [
    {
     "name": "stdout",
     "output_type": "stream",
     "text": [
      "Jack 24 Beijing Engineer\n",
      "Jack 24 Beijing Engineer\n"
     ]
    }
   ],
   "source": [
    "def person(name, age, *, city='Beijing', job): # 可以有默认值，city 和 job 都是命名关键字参数\n",
    "    print(name, age, city, job)\n",
    "\n",
    "person('Jack', 24, city='Beijing', job='Engineer')\n",
    "# person('Jack', 24, 'Beijing', 'Engineer') 将报错\n",
    "person('Jack', 24, job='Engineer') # 因 city 有默认值，可以隐式调用"
   ]
  },
  {
   "cell_type": "markdown",
   "metadata": {},
   "source": [
    "如果函数定义中已经有了一个可变参数`*参数名`，后面跟着的命名关键字参数就不再需要一个特殊分隔符`*`了："
   ]
  },
  {
   "cell_type": "code",
   "execution_count": 8,
   "metadata": {},
   "outputs": [
    {
     "name": "stdout",
     "output_type": "stream",
     "text": [
      "Jack 24 (1, 3, 5, 7) Beijing Engineer\n"
     ]
    }
   ],
   "source": [
    "def person(name, age, *args, city, job):\n",
    "    '''\n",
    "    city和job都是命名关键字参数\n",
    "    '''\n",
    "    print(name, age, args, city, job)\n",
    "\n",
    "nums = (1, 3, 5, 7)\n",
    "person('Jack', 24, *nums, city='Beijing', job='Engineer')"
   ]
  },
  {
   "cell_type": "markdown",
   "metadata": {},
   "source": [
    "## 参数组合\n",
    "\n",
    "5种参数都可以组合使用。但是请注意，为了提高程序的可读性，**参数定义的顺序应该是：必选参数、可选参数、可变参数、命名关键字参数和关键字参数**。"
   ]
  },
  {
   "cell_type": "code",
   "execution_count": 9,
   "metadata": {},
   "outputs": [
    {
     "name": "stdout",
     "output_type": "stream",
     "text": [
      "a = 1 b = 2 c = 0 args = () kw = {}\n",
      "a = 1 b = 2 c = 3 args = () kw = {}\n",
      "a = 1 b = 2 c = 3 args = ('a', 'b') kw = {}\n",
      "a = 1 b = 2 c = 3 args = ('a', 'b') kw = {'x': 99}\n",
      "a = 1 b = 2 c = 0 d = 99 kw = {'ext': None}\n",
      "a = 1 b = 2 c = 3 args = (4,) kw = {'d': 99, 'x': '#'}\n",
      "a = 1 b = 2 c = 3 d = 88 kw = {'x': '#'}\n"
     ]
    }
   ],
   "source": [
    "def f1(a, b, c=0, *args, **kw):\n",
    "    print('a =', a, 'b =', b, 'c =', c, 'args =', args, 'kw =', kw)\n",
    "\n",
    "def f2(a, b, c=0, *, d, **kw):\n",
    "    print('a =', a, 'b =', b, 'c =', c, 'd =', d, 'kw =', kw)\n",
    "\n",
    "f1(1, 2)\n",
    "f1(1, 2, c=3)\n",
    "f1(1, 2, 3, 'a', 'b')\n",
    "f1(1, 2, 3, 'a', 'b', x = 99)\n",
    "f2(1, 2, d = 99, ext = None)\n",
    "\n",
    "args = (1, 2, 3, 4)\n",
    "kw = {'d': 99, 'x': '#'}\n",
    "f1(*args, **kw)\n",
    "\n",
    "args = (1, 2, 3)\n",
    "kw = {'d': 88, 'x': '#'}\n",
    "f2(*args, **kw)"
   ]
  },
  {
   "cell_type": "markdown",
   "metadata": {},
   "source": [
    "## 函数的参数传递机制\n",
    "\n",
    "一般来说，函数不能修改外部变量。因为传递给函数的是参数的副本，而非参数本身；但当参数为指针时，即使是副本，指向的也是同一个对象。\n",
    "\n",
    "因此，**如果要让函数修改外部数据，可以通过把这些数据包装为列表、字典等可变对象，然后作为参数传递给函数，在函数内部用列表、字典的方法修改它们，这样就能改变这些数据**。\n",
    "\n",
    "# 返回值\n",
    "\n",
    "如果函数中没有`return`语句，那么函数默认返回代表空值的`None`。\n",
    "\n",
    "可以返回多个值，构成一个元组并省略括号\n",
    "\n",
    "# 变量作用域\n",
    "\n",
    "局部变量：函数内\n",
    "\n",
    "全局变量：函数外\n",
    "\n",
    "对于基本数据类型，可以用`global`声明在函数内部使用全局变量\n",
    "\n",
    "列表、元祖等组合数据类型，只要不是函数内部创建的，默认调用同名全局变量，不需要`global`声明"
   ]
  },
  {
   "cell_type": "markdown",
   "metadata": {},
   "source": [
    "# 函数式编程：函数作为参数或返回值\n",
    "\n",
    "**调用函数需要在函数名后面跟上圆括号，而把函数作为参数时只需要函数名即可**\n",
    "\n",
    "## 高阶函数\n",
    "\n",
    "`filter(function, iterable)`\n",
    "\n",
    "`map(function, iterable)`\n",
    "\n",
    "`functools.reduce(function, iterable[, initial]) `"
   ]
  },
  {
   "cell_type": "code",
   "execution_count": 12,
   "metadata": {},
   "outputs": [
    {
     "name": "stdout",
     "output_type": "stream",
     "text": [
      "<map object at 0x0000022D5B77DC40> \n",
      " <class 'map'> :  [0, 1, 4, 9, 16, 25, 36, 49]\n",
      "Object `functools.reduce()` not found.\n"
     ]
    }
   ],
   "source": [
    "x = map(lambda x: x*x, range(8))\n",
    "print(x, '\\n', type(x),': ',[i for i in x])\n",
    "\n",
    "?functools.reduce()"
   ]
  },
  {
   "cell_type": "markdown",
   "metadata": {},
   "source": [
    "## 装饰器\n",
    "\n",
    "装饰器本身是一个函数，它的参数是被装饰的函数或类，它的返回值是一个带有装饰功能的函数。很显然，装饰器是一个高阶函数，它的参数和返回值都是函数。\n",
    "\n",
    "语法糖：可以用`@装饰器函数`将装饰器函数直接放在被装饰的函数定义上，相当于对函数重新赋值，既 `foo = record_time(foo)`"
   ]
  },
  {
   "cell_type": "code",
   "execution_count": 14,
   "metadata": {},
   "outputs": [
    {
     "name": "stdout",
     "output_type": "stream",
     "text": [
      "开始下载MySQL从删库到跑路.avi.\n",
      "MySQL从删库到跑路.avi下载完成.\n",
      "download执行时间: 3.002秒\n",
      "开始上传Python从入门到住院.pdf.\n",
      "Python从入门到住院.pdf上传完成.\n",
      "upload执行时间: 5.002秒\n",
      "开始下载MySQL必知必会.pdf.\n",
      "MySQL必知必会.pdf下载完成.\n",
      "开始上传Python从新手到大师.pdf.\n",
      "Python从新手到大师.pdf上传完成.\n"
     ]
    }
   ],
   "source": [
    "import random\n",
    "import time\n",
    "from functools import wraps\n",
    "\n",
    "\n",
    "def record_time(func):\n",
    "\n",
    "    @wraps(func) # 这个装饰器的功能是：保留被装饰之前的函数\n",
    "    def wrapper(*args, **kwargs):\n",
    "        start = time.time()\n",
    "        result = func(*args, **kwargs)\n",
    "        end = time.time()\n",
    "        print(f'{func.__name__}执行时间: {end - start:.3f}秒')\n",
    "        return result\n",
    "\n",
    "    return wrapper\n",
    "\n",
    "\n",
    "@record_time # 对 download 重新赋值\n",
    "def download(filename):\n",
    "    print(f'开始下载{filename}.')\n",
    "    time.sleep(random.randint(2, 6))\n",
    "    print(f'{filename}下载完成.')\n",
    "\n",
    "\n",
    "@record_time # 对 upload 重新赋值\n",
    "def upload(filename):\n",
    "    print(f'开始上传{filename}.')\n",
    "    time.sleep(random.randint(4, 8))\n",
    "    print(f'{filename}上传完成.')\n",
    "\n",
    "\n",
    "download('MySQL从删库到跑路.avi')\n",
    "upload('Python从入门到住院.pdf')\n",
    "\n",
    "# 取消装饰器\n",
    "download.__wrapped__('MySQL必知必会.pdf')\n",
    "upload = upload.__wrapped__\n",
    "upload('Python从新手到大师.pdf')"
   ]
  },
  {
   "cell_type": "markdown",
   "metadata": {},
   "source": [
    "# 常用函数"
   ]
  },
  {
   "cell_type": "markdown",
   "metadata": {},
   "source": [
    "## 内置函数"
   ]
  },
  {
   "cell_type": "markdown",
   "metadata": {},
   "source": [
    "\n",
    "\n",
    "|函数    |说明                                                         |\n",
    "|:-------|:------------------------------------------------------------|\n",
    "| `abs`   | 返回一个数的绝对值，例如：`abs(-1.3)`会返回`1.3`。           |\n",
    "| `bin`   | 把一个整数转换成以`'0b'`开头的二进制字符串，例如：`bin(123)`会返回`'0b1111011'`。 |\n",
    "| `chr`   | 将Unicode编码转换成对应的字符，例如：`chr(8364)`会返回`'€'`。 |\n",
    "| `hex`   | 将一个整数转换成以`'0x'`开头的十六进制字符串，例如：`hex(123)`会返回`'0x7b'`。 |\n",
    "| `input` | 从输入中读取一行，返回读到的字符串。                         |\n",
    "| `len`   | 获取字符串、列表等的长度。                                   |\n",
    "| `max`   | 返回多个参数或一个可迭代对象中的最大值，例如：`max(12, 95, 37)`会返回`95`。 |\n",
    "| `min`   | 返回多个参数或一个可迭代对象中的最小值，例如：`min(12, 95, 37)`会返回`12`。 |\n",
    "| `oct`   | 把一个整数转换成以`'0o'`开头的八进制字符串，例如：`oct(123)`会返回`'0o173'`。 |\n",
    "| `open`  | 打开一个文件并返回文件对象。                                 |\n",
    "| `ord`   | 将字符转换成对应的Unicode编码，例如：`ord('€')`会返回`8364`。 |\n",
    "| `pow`   | 求幂运算，例如：`pow(2, 3)`会返回`8`；`pow(2, 0.5)`会返回`1.4142135623730951`。 |\n",
    "| `print` | 打印输出。                                                   |\n",
    "| `range` | 构造一个范围序列，例如：`range(100)`会产生`0`到`99`的整数序列。 |\n",
    "| `round` | 按照指定的精度对数值进行四舍五入，例如：`round(1.23456, 4)`会返回`1.2346`。 |\n",
    "| `sum`   | 对一个序列中的项从左到右进行求和运算，例如：`sum(range(1, 101))`会返回`5050`。 |\n",
    "| `type`  | 返回对象的类型，例如：`type(10)`会返回`int`；而` type('hello')`会返回`str`。 |\n",
    "\n"
   ]
  },
  {
   "cell_type": "code",
   "execution_count": null,
   "metadata": {},
   "outputs": [],
   "source": []
  }
 ],
 "metadata": {
  "kernelspec": {
   "display_name": "Python 3 (ipykernel)",
   "language": "python",
   "name": "python3"
  },
  "language_info": {
   "codemirror_mode": {
    "name": "ipython",
    "version": 3
   },
   "file_extension": ".py",
   "mimetype": "text/x-python",
   "name": "python",
   "nbconvert_exporter": "python",
   "pygments_lexer": "ipython3",
   "version": "3.10.5"
  }
 },
 "nbformat": 4,
 "nbformat_minor": 4
}
