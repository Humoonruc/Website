{
  "cells": [
    {
      "cell_type": "raw",
      "metadata": {},
      "source": [
        "---\n",
        "title: \"函数的应用\"\n",
        "author: \"\"\n",
        "date: \"\"\n",
        "format:\n",
        "  html:\n",
        "    toc: true\n",
        "    number-sections: true\n",
        "    code-tools: true\n",
        "    highlight-style: monokai\n",
        "    code-copy: true\n",
        "    self-contained: true\n",
        "execute: \n",
        "  cache: true\n",
        "  daemon: true\n",
        "  output: asis\n",
        "---"
      ]
    },
    {
      "cell_type": "markdown",
      "metadata": {},
      "source": [
        "## 函数的应用\n",
        "\n",
        "接下来我们通过一些案例来为大家讲解函数的应用。\n",
        "\n",
        "### 案例1：设计一个生成验证码的函数。\n",
        "\n",
        "> **说明**：验证码由数字和英文大小写字母构成，长度可以用参数指定。"
      ]
    },
    {
      "cell_type": "code",
      "metadata": {},
      "source": [
        "import random\n",
        "import string\n",
        "\n",
        "\n",
        "ALL_CHARS = string.digits + string.ascii_letters\n",
        "print(ALL_CHARS)\n",
        "\n",
        "\n",
        "def generate_code(code_len=4):\n",
        "    \"\"\"生成指定长度的验证码\n",
        "    \n",
        "    :param code_len: 验证码的长度(默认4个字符)\n",
        "    :return: 由大小写英文字母和数字构成的随机验证码字符串\n",
        "    \"\"\"\n",
        "    return ''.join(random.choices(ALL_CHARS, k=code_len))"
      ],
      "execution_count": null,
      "outputs": []
    },
    {
      "cell_type": "markdown",
      "metadata": {},
      "source": [
        "可以用下面的代码生成10组随机验证码来测试上面的函数。"
      ]
    },
    {
      "cell_type": "code",
      "metadata": {},
      "source": [
        "for _ in range(10):\n",
        "    print(generate_code())"
      ],
      "execution_count": null,
      "outputs": []
    },
    {
      "cell_type": "markdown",
      "metadata": {},
      "source": [
        "> **说明**：`random`模块的`sample`和`choices`函数都可以实现随机抽样，`sample`实现无放回抽样，这意味着抽样取出的字符是不重复的；`choices`实现有放回抽样，这意味着可能会重复选中某些字符。这两个函数的第一个参数代表抽样的总体，而参数`k`代表抽样的数量。\n",
        "\n",
        "### 案例2：设计一个函数返回给定文件的后缀名。\n",
        "\n",
        "> **说明**：文件名通常是一个字符串，而文件的后缀名指的是文件名中最后一个`.`后面的部分，也称为文件的扩展名，它是某些操作系统用来标记文件类型的一种机制，例如在Windows系统上，后缀名`exe`表示这是一个可执行程序，而后缀名`txt`表示这是一个纯文本文件。需要注意的是，在Linux和macOS系统上，文件名可以以`.`开头，表示这是一个隐藏文件，像`.gitignore`这样的文件名，`.`后面并不是后缀名，这个文件没有后缀名或者说后缀名为`''`。"
      ]
    },
    {
      "cell_type": "code",
      "metadata": {},
      "source": [
        "def get_suffix(filename, ignore_dot=True):\n",
        "    \"\"\"获取文件名的后缀名\n",
        "    \n",
        "    :param filename: 文件名\n",
        "    :param ignore_dot: 是否忽略后缀名前面的点\n",
        "    :return: 文件的后缀名\n",
        "    \"\"\"\n",
        "    # 从字符串中逆向查找.出现的位置\n",
        "    pos = filename.rfind('.')\n",
        "    # 通过切片操作从文件名中取出后缀名\n",
        "    if pos <= 0:\n",
        "        return ''\n",
        "    return filename[pos + 1:] if ignore_dot else filename[pos:]"
      ],
      "execution_count": null,
      "outputs": []
    },
    {
      "cell_type": "markdown",
      "metadata": {},
      "source": [
        "可以用下面的代码对上面的函数做一个简单的测验。"
      ]
    },
    {
      "cell_type": "code",
      "metadata": {},
      "source": [
        "print(get_suffix('readme.txt'))       # txt\n",
        "print(get_suffix('readme.txt.md'))    # md\n",
        "print(get_suffix('.readme'))          #\n",
        "print(get_suffix('readme.'))          #\n",
        "print(get_suffix('readme'))           #"
      ],
      "execution_count": null,
      "outputs": []
    },
    {
      "cell_type": "markdown",
      "metadata": {},
      "source": [
        "上面的`get_suffix`函数还有一个更为便捷的实现方式，就是直接使用`os.path`模块的`splitext`函数，这个函数会将文件名拆分成带路径的文件名和扩展名两个部分，然后返回一个二元组，二元组中的第二个元素就是文件的后缀名（包含`.`），如果要去掉后缀名中的`.`，可以做一个字符串的切片操作，代码如下所示。"
      ]
    },
    {
      "cell_type": "code",
      "metadata": {},
      "source": [
        "from os.path import splitext\n",
        "\n",
        "\n",
        "def get_suffix(filename, ignore_dot=True):\n",
        "    return splitext(filename)[1][1:]"
      ],
      "execution_count": null,
      "outputs": []
    },
    {
      "cell_type": "markdown",
      "metadata": {},
      "source": [
        "### 案例3：写一个判断给定的正整数是不是质数的函数。"
      ]
    },
    {
      "cell_type": "code",
      "metadata": {},
      "source": [
        "def is_prime(num: int) -> bool:\n",
        "    \"\"\"判断一个正整数是不是质数\n",
        "\n",
        "    :param num: 正整数\n",
        "    :return: 如果是质数返回True，否则返回False\n",
        "    \"\"\"\n",
        "    for i in range(2, int(num ** 0.5) + 1):\n",
        "        if num % i == 0:\n",
        "            return False\n",
        "    return num != 1"
      ],
      "execution_count": null,
      "outputs": []
    },
    {
      "cell_type": "markdown",
      "metadata": {},
      "source": [
        "### 案例4：写出计算两个正整数最大公约数和最小公倍数的函数。\n",
        "\n",
        "代码一："
      ]
    },
    {
      "cell_type": "code",
      "metadata": {},
      "source": [
        "def gcd_and_lcm(x: int, y: int) -> int:\n",
        "    \"\"\"求最大公约数和最小公倍数\"\"\"\n",
        "    a, b = x, y\n",
        "    while b % a != 0:\n",
        "        a, b = b % a, a\n",
        "    return a, x * y // a"
      ],
      "execution_count": null,
      "outputs": []
    },
    {
      "cell_type": "markdown",
      "metadata": {},
      "source": [
        "代码二："
      ]
    },
    {
      "cell_type": "code",
      "metadata": {},
      "source": [
        "def gcd(x: int, y: int) -> int:\n",
        "    \"\"\"求最大公约数\"\"\"\n",
        "    while y % x != 0:\n",
        "        x, y = y % x, x\n",
        "    return x\n",
        "\n",
        "\n",
        "def lcm(x: int, y: int) -> int:\n",
        "    \"\"\"求最小公倍数\"\"\"\n",
        "    return x * y // gcd(x, y)"
      ],
      "execution_count": null,
      "outputs": []
    },
    {
      "cell_type": "markdown",
      "metadata": {},
      "source": [
        "> **思考**：请比较上面的代码一和代码二，想想哪种做法是更好的选择。\n",
        "\n",
        "### 案例5：写出计算一组样本数据描述性统计信息的函数。"
      ]
    },
    {
      "cell_type": "code",
      "metadata": {},
      "source": [
        "import math\n",
        "\n",
        "\n",
        "def ptp(data):\n",
        "    \"\"\"求极差（全距）\"\"\"\n",
        "    return max(data) - min(data)\n",
        "\n",
        "\n",
        "def average(data):\n",
        "    \"\"\"求均值\"\"\"\n",
        "    return sum(data) / len(data)\n",
        "\n",
        "\n",
        "def variance(data):\n",
        "    \"\"\"求方差\"\"\"\n",
        "    x_bar = average(data)\n",
        "    temp = [(num - x_bar) ** 2 for num in data]\n",
        "    return sum(temp) / (len(data) - 1)\n",
        "\n",
        "\n",
        "def standard_deviation(data):\n",
        "    \"\"\"求标准差\"\"\"\n",
        "    return math.sqrt(variance(data))\n",
        "\n",
        "\n",
        "def median(data):\n",
        "    \"\"\"找中位数\"\"\"\n",
        "    temp, size = sorted(data), len(data)\n",
        "    if size % 2 != 0:\n",
        "        return temp[size // 2]\n",
        "    else:\n",
        "        return average(temp[size // 2 - 1:size // 2 + 1])"
      ],
      "execution_count": null,
      "outputs": []
    }
  ],
  "metadata": {
    "kernelspec": {
      "display_name": "Python 3",
      "language": "python",
      "name": "python3"
    }
  },
  "nbformat": 4,
  "nbformat_minor": 4
}