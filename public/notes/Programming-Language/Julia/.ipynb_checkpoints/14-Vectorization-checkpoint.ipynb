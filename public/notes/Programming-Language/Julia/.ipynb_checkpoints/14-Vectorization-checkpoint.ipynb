{
 "cells": [
  {
   "cell_type": "markdown",
   "id": "7376a4f4-0c49-4df4-858e-a695f840b449",
   "metadata": {},
   "source": [
    "# 推导式 Comprehension\n",
    "\n",
    "一般形式：`out_exp_res for out_exp in input_list if condition`\n",
    "\n",
    "返回类型为 Base.Generator，很多时候可以不展开为数组，直接传递给相关函数"
   ]
  },
  {
   "cell_type": "code",
   "execution_count": 10,
   "id": "6f2cc6f3-7d8b-4ab4-be03-a5b2243c5163",
   "metadata": {},
   "outputs": [
    {
     "data": {
      "text/plain": [
       "Base.Generator{UnitRange{Int64}, var\"#25#26\"}"
      ]
     },
     "execution_count": 10,
     "metadata": {},
     "output_type": "execute_result"
    }
   ],
   "source": [
    "typeof(1/n^2 for n in 1:10000)"
   ]
  },
  {
   "cell_type": "code",
   "execution_count": 11,
   "id": "7588227e",
   "metadata": {},
   "outputs": [
    {
     "data": {
      "text/plain": [
       "1.6448340718480652"
      ]
     },
     "execution_count": 11,
     "metadata": {},
     "output_type": "execute_result"
    }
   ],
   "source": [
    "sum(1/n^2 for n in 1:10000)"
   ]
  },
  {
   "cell_type": "markdown",
   "id": "e2d3774f",
   "metadata": {},
   "source": [
    "推导式用 `[]` 或 `collect()` 可以展开为数组"
   ]
  },
  {
   "cell_type": "code",
   "execution_count": 12,
   "id": "716fedb1-7608-4364-9381-ae8a6b09bb58",
   "metadata": {},
   "outputs": [
    {
     "data": {
      "text/plain": [
       "Vector{Float64}\u001b[90m (alias for \u001b[39m\u001b[90mArray{Float64, 1}\u001b[39m\u001b[90m)\u001b[39m"
      ]
     },
     "execution_count": 12,
     "metadata": {},
     "output_type": "execute_result"
    }
   ],
   "source": [
    "typeof([1/n^2 for n in 1:10000])"
   ]
  },
  {
   "cell_type": "code",
   "execution_count": 13,
   "id": "16d664b5-5f3d-40a2-8a6e-587140ab015c",
   "metadata": {},
   "outputs": [
    {
     "data": {
      "text/plain": [
       "1.644834071848061"
      ]
     },
     "execution_count": 13,
     "metadata": {},
     "output_type": "execute_result"
    }
   ],
   "source": [
    "sum([1/n^2 for n in 1:10000])"
   ]
  },
  {
   "cell_type": "markdown",
   "id": "53a18fa9",
   "metadata": {},
   "source": [
    "## 遍历单向量"
   ]
  },
  {
   "cell_type": "markdown",
   "id": "8134d999-e68f-4c7f-abd0-7e3d80e2b419",
   "metadata": {},
   "source": [
    "- `[f(x) for x ∈ iterator]`\n",
    "- `[f(i) for i ∈ eachindex(iterator)]`\n",
    "- `[f(i, x) for (i, x) ∈ enumerate(iterator)]`\n",
    "> enumerate() 能自动将向量展开为 (i, x) 配对的向量 \n"
   ]
  },
  {
   "cell_type": "code",
   "execution_count": 5,
   "id": "b5c1e9fa-a87f-4d79-8837-d2723ef54f0e",
   "metadata": {
    "tags": []
   },
   "outputs": [
    {
     "data": {
      "text/plain": [
       "3-element Vector{Char}:\n",
       " 'a': ASCII/Unicode U+0061 (category Ll: Letter, lowercase)\n",
       " 'b': ASCII/Unicode U+0062 (category Ll: Letter, lowercase)\n",
       " 'c': ASCII/Unicode U+0063 (category Ll: Letter, lowercase)"
      ]
     },
     "execution_count": 5,
     "metadata": {},
     "output_type": "execute_result"
    }
   ],
   "source": [
    "vector = ['a', 'b', 'c']"
   ]
  },
  {
   "cell_type": "code",
   "execution_count": 2,
   "id": "f65736b2-ea11-4ba8-bcbf-9a7b1aaee542",
   "metadata": {},
   "outputs": [
    {
     "data": {
      "text/plain": [
       "3-element Vector{String}:\n",
       " \"aa\"\n",
       " \"bb\"\n",
       " \"cc\""
      ]
     },
     "execution_count": 2,
     "metadata": {},
     "output_type": "execute_result"
    }
   ],
   "source": [
    "[x^2 for x ∈ vector]"
   ]
  },
  {
   "cell_type": "code",
   "execution_count": 3,
   "id": "6760c1ba-1a09-4222-95e5-2eb756ecd8c9",
   "metadata": {},
   "outputs": [
    {
     "data": {
      "text/plain": [
       "3-element Vector{String}:\n",
       " \"a\"\n",
       " \"bb\"\n",
       " \"ccc\""
      ]
     },
     "execution_count": 3,
     "metadata": {},
     "output_type": "execute_result"
    }
   ],
   "source": [
    "[x^i for (i, x) ∈ enumerate(vector)]"
   ]
  },
  {
   "cell_type": "code",
   "execution_count": 2,
   "id": "50edcdc2-e58f-424d-99ac-30f91f6c21d2",
   "metadata": {},
   "outputs": [
    {
     "data": {
      "text/plain": [
       "4-element Vector{Char}:\n",
       " 'a': ASCII/Unicode U+0061 (category Ll: Letter, lowercase)\n",
       " 'b': ASCII/Unicode U+0062 (category Ll: Letter, lowercase)\n",
       " 'c': ASCII/Unicode U+0063 (category Ll: Letter, lowercase)\n",
       " 'a': ASCII/Unicode U+0061 (category Ll: Letter, lowercase)"
      ]
     },
     "execution_count": 2,
     "metadata": {},
     "output_type": "execute_result"
    }
   ],
   "source": [
    "function unique_in_order(arr)\n",
    "    [x for (i, x) ∈ enumerate(arr) if (i == 1 || x ≠ arr[i-1])]\n",
    "end\n",
    "\n",
    "unique_in_order(\"aabbccaa\")"
   ]
  },
  {
   "cell_type": "markdown",
   "id": "356c05dd-d5f2-4557-885f-b9488e9e3dc5",
   "metadata": {},
   "source": [
    "## 平行遍历多向量\n",
    "\n",
    "- `zip(v1, v2, ...)`\n",
    "    - 返回类型为 Base.Iterators.Zip，可以用`collect(itr)`或`[itr...]`展开为 Vector{Tuple}"
   ]
  },
  {
   "cell_type": "code",
   "execution_count": 17,
   "id": "fe70c3b9-e720-4cff-bef4-b05257664d1b",
   "metadata": {},
   "outputs": [
    {
     "data": {
      "text/plain": [
       "Base.Iterators.Zip{Tuple{Vector{Int64}, Vector{Int64}}}"
      ]
     },
     "execution_count": 17,
     "metadata": {},
     "output_type": "execute_result"
    }
   ],
   "source": [
    "zip([1,2,3] , [4,5,6]) |> typeof"
   ]
  },
  {
   "cell_type": "code",
   "execution_count": 18,
   "id": "54a873f2-a671-4378-a412-d33b8b83e54a",
   "metadata": {},
   "outputs": [
    {
     "data": {
      "text/plain": [
       "3-element Vector{Tuple{Int64, Int64}}:\n",
       " (1, 4)\n",
       " (2, 5)\n",
       " (3, 6)"
      ]
     },
     "execution_count": 18,
     "metadata": {},
     "output_type": "execute_result"
    }
   ],
   "source": [
    "# 三种等价写法\n",
    "[tuple for tuple in zip([1, 2, 3], [4, 5, 6])]\n",
    "collect(zip([1, 2, 3], [4, 5, 6]))\n",
    "[zip([1, 2, 3], [4, 5, 6])...]"
   ]
  },
  {
   "cell_type": "code",
   "execution_count": 16,
   "id": "bd81c00d-12d1-478a-81e7-26aca31f3333",
   "metadata": {},
   "outputs": [
    {
     "data": {
      "text/plain": [
       "3-element Vector{Int64}:\n",
       " 5\n",
       " 7\n",
       " 9"
      ]
     },
     "execution_count": 16,
     "metadata": {},
     "output_type": "execute_result"
    }
   ],
   "source": [
    "[x + y for (x, y) in zip([1, 2, 3], [4, 5, 6])] "
   ]
  },
  {
   "cell_type": "markdown",
   "id": "9a41411d-0370-49d8-a075-62023ccb23ef",
   "metadata": {},
   "source": [
    "## 交叉遍历多向量\n",
    "\n",
    "- `f(x, y) for x in iterator1 for y in iterator2`\n",
    "  - 返回类型为 Base.Interators.Flatten，用 `[]` 或 `collect()` **展开后为 Vector**\n",
    "- `f(x, y, ...) for x in rangeX, y in rangeY, ...` \n",
    "  - 返回类型为 Base.Generator，用 `[]` 或 `collect()` **展开后为 Matrix**\n",
    "- `Iterators.product(v1, v2)`\n",
    "  - 返回类型为 Base.Iterators.ProductIterator，展开后为 Matrix"
   ]
  },
  {
   "cell_type": "code",
   "execution_count": 21,
   "id": "c5ed093a-a404-4feb-b2a2-0ca40df981a1",
   "metadata": {},
   "outputs": [
    {
     "data": {
      "text/plain": [
       "6-element Vector{Int64}:\n",
       " 2\n",
       " 3\n",
       " 3\n",
       " 4\n",
       " 4\n",
       " 5"
      ]
     },
     "execution_count": 21,
     "metadata": {},
     "output_type": "execute_result"
    }
   ],
   "source": [
    "[x + y for x in 1:3 for y in 1:2]"
   ]
  },
  {
   "cell_type": "code",
   "execution_count": 22,
   "id": "04eb18c6-329b-4e6b-bd57-b90731ea80fa",
   "metadata": {},
   "outputs": [
    {
     "data": {
      "text/plain": [
       "3×2 Matrix{Int64}:\n",
       " 2  3\n",
       " 3  4\n",
       " 4  5"
      ]
     },
     "execution_count": 22,
     "metadata": {},
     "output_type": "execute_result"
    }
   ],
   "source": [
    "[x + y for x in 1:3, y in 1:2]"
   ]
  },
  {
   "cell_type": "code",
   "execution_count": 23,
   "id": "76a15bc6-8f24-402e-81d8-617fa416d7c4",
   "metadata": {},
   "outputs": [
    {
     "data": {
      "text/plain": [
       "3×2 Matrix{Tuple{Int64, Int64}}:\n",
       " (1, 1)  (1, 2)\n",
       " (2, 1)  (2, 2)\n",
       " (3, 1)  (3, 2)"
      ]
     },
     "execution_count": 23,
     "metadata": {},
     "output_type": "execute_result"
    }
   ],
   "source": [
    "Iterators.product(1:3, 1:2) |> collect"
   ]
  },
  {
   "cell_type": "code",
   "execution_count": 24,
   "id": "744b0fef-bf2e-4091-9e96-dfa3fa58a4cd",
   "metadata": {},
   "outputs": [
    {
     "data": {
      "text/plain": [
       "3×2 Matrix{Int64}:\n",
       " 2  3\n",
       " 3  4\n",
       " 4  5"
      ]
     },
     "execution_count": 24,
     "metadata": {},
     "output_type": "execute_result"
    }
   ],
   "source": [
    "[x + y for (x, y) in Iterators.product(1:3, 1:2)]"
   ]
  },
  {
   "cell_type": "markdown",
   "id": "5d62145d-9d0e-43f6-bf97-e8faa0fa086c",
   "metadata": {},
   "source": [
    "## 遍历多维数组\n",
    "\n",
    "### `axes(A, dim)`\n",
    "\n",
    "返回数组 A 在 dim 维度上的索引迭代器"
   ]
  },
  {
   "cell_type": "code",
   "execution_count": 16,
   "id": "16879bd8-860a-481d-8626-916e48a3e920",
   "metadata": {},
   "outputs": [],
   "source": [
    "\"\"\"\n",
    "手写矩阵乘法\n",
    "\"\"\"\n",
    "function mygemm!(C, A, B)\n",
    "    @inbounds @fastmath for m ∈ axes(A, 1), n ∈ axes(B, 2)\n",
    "        Cmn = zero(eltype(C))\n",
    "        for k ∈ axes(A, 2)\n",
    "            Cmn += A[m, k] * B[k, n]\n",
    "        end\n",
    "        C[m, n] = Cmn\n",
    "    end\n",
    "end\n",
    "\n",
    "A = rand(2, 4);\n",
    "B = rand(4, 3);\n",
    "C = zeros(2, 3);"
   ]
  },
  {
   "cell_type": "code",
   "execution_count": 15,
   "id": "0caa2521-e37e-449b-b9b0-ba7d9c71e288",
   "metadata": {},
   "outputs": [
    {
     "data": {
      "text/plain": [
       "2×3 Matrix{Float64}:\n",
       " 0.554418  1.17038  0.988504\n",
       " 0.324215  1.26154  0.899939"
      ]
     },
     "execution_count": 15,
     "metadata": {},
     "output_type": "execute_result"
    }
   ],
   "source": [
    "mygemm!(C, A, B)\n",
    "C"
   ]
  },
  {
   "cell_type": "markdown",
   "id": "0101cd5e-6faa-4de4-b9a4-508731322271",
   "metadata": {},
   "source": [
    "### `CartesianIndices(A)`\n",
    "\n",
    "以同样的 dims 返回 A 中各元素所有维度 index 的对象"
   ]
  },
  {
   "cell_type": "code",
   "execution_count": 34,
   "id": "a80eca02-b583-41fd-a3d1-868e617cefc2",
   "metadata": {},
   "outputs": [
    {
     "data": {
      "text/plain": [
       "3×3×2 CartesianIndices{3, Tuple{Base.OneTo{Int64}, Base.OneTo{Int64}, Base.OneTo{Int64}}}:\n",
       "[:, :, 1] =\n",
       " CartesianIndex(1, 1, 1)  CartesianIndex(1, 2, 1)  CartesianIndex(1, 3, 1)\n",
       " CartesianIndex(2, 1, 1)  CartesianIndex(2, 2, 1)  CartesianIndex(2, 3, 1)\n",
       " CartesianIndex(3, 1, 1)  CartesianIndex(3, 2, 1)  CartesianIndex(3, 3, 1)\n",
       "\n",
       "[:, :, 2] =\n",
       " CartesianIndex(1, 1, 2)  CartesianIndex(1, 2, 2)  CartesianIndex(1, 3, 2)\n",
       " CartesianIndex(2, 1, 2)  CartesianIndex(2, 2, 2)  CartesianIndex(2, 3, 2)\n",
       " CartesianIndex(3, 1, 2)  CartesianIndex(3, 2, 2)  CartesianIndex(3, 3, 2)"
      ]
     },
     "execution_count": 34,
     "metadata": {},
     "output_type": "execute_result"
    }
   ],
   "source": [
    "CartesianIndices(ones(3, 3, 2))"
   ]
  },
  {
   "cell_type": "code",
   "execution_count": 35,
   "id": "433f490f-4d9a-4f36-9062-1683fef92f4f",
   "metadata": {},
   "outputs": [
    {
     "data": {
      "text/plain": [
       "4×3 Matrix{Int64}:\n",
       "  1   2  3\n",
       " -3  -2  1\n",
       "  3  -1  2\n",
       "  4   5  6"
      ]
     },
     "execution_count": 35,
     "metadata": {},
     "output_type": "execute_result"
    }
   ],
   "source": [
    "A = [1 2 3; -3 -2 1; 3 -1 2; 4 5 6]"
   ]
  },
  {
   "cell_type": "code",
   "execution_count": 36,
   "id": "01ec1460-920d-48cc-822c-c4911814bdf3",
   "metadata": {},
   "outputs": [
    {
     "data": {
      "text/plain": [
       "4×3 CartesianIndices{2, Tuple{Base.OneTo{Int64}, Base.OneTo{Int64}}}:\n",
       " CartesianIndex(1, 1)  CartesianIndex(1, 2)  CartesianIndex(1, 3)\n",
       " CartesianIndex(2, 1)  CartesianIndex(2, 2)  CartesianIndex(2, 3)\n",
       " CartesianIndex(3, 1)  CartesianIndex(3, 2)  CartesianIndex(3, 3)\n",
       " CartesianIndex(4, 1)  CartesianIndex(4, 2)  CartesianIndex(4, 3)"
      ]
     },
     "execution_count": 36,
     "metadata": {},
     "output_type": "execute_result"
    }
   ],
   "source": [
    "CartesianIndices(A)"
   ]
  },
  {
   "cell_type": "code",
   "execution_count": 37,
   "id": "3027d57c-d0b4-43e5-9d9c-fa720fc46236",
   "metadata": {},
   "outputs": [
    {
     "data": {
      "text/plain": [
       "4×3 Matrix{Int64}:\n",
       " 1  1  1\n",
       " 2  2  2\n",
       " 3  3  3\n",
       " 4  4  4"
      ]
     },
     "execution_count": 37,
     "metadata": {},
     "output_type": "execute_result"
    }
   ],
   "source": [
    "[indices[1] for indices in CartesianIndices(A)] # 行索引"
   ]
  },
  {
   "cell_type": "code",
   "execution_count": 38,
   "id": "6dbefbb3-52c6-479a-8e41-73e80abcfc36",
   "metadata": {},
   "outputs": [
    {
     "data": {
      "text/plain": [
       "4×3 Matrix{Int64}:\n",
       " 1  2  3\n",
       " 1  2  3\n",
       " 1  2  3\n",
       " 1  2  3"
      ]
     },
     "execution_count": 38,
     "metadata": {},
     "output_type": "execute_result"
    }
   ],
   "source": [
    "[indices[2] for indices in CartesianIndices(A)] # 列索引"
   ]
  },
  {
   "cell_type": "code",
   "execution_count": 39,
   "id": "1083abf8-74c5-4acd-b7a3-5a76b158c4d6",
   "metadata": {},
   "outputs": [
    {
     "data": {
      "text/plain": [
       "4×3 Matrix{Int64}:\n",
       "  4   5  6\n",
       "  3  -1  2\n",
       " -3  -2  1\n",
       "  1   2  3"
      ]
     },
     "execution_count": 39,
     "metadata": {},
     "output_type": "execute_result"
    }
   ],
   "source": [
    "[A[5-indices[1], indices[2]] for indices in CartesianIndices(A)]"
   ]
  },
  {
   "cell_type": "code",
   "execution_count": 40,
   "id": "6247c382-7b77-42ba-badf-5b268a48aacd",
   "metadata": {},
   "outputs": [
    {
     "data": {
      "text/plain": [
       "4×3 Matrix{Int64}:\n",
       " 3   2   1\n",
       " 1  -2  -3\n",
       " 2  -1   3\n",
       " 6   5   4"
      ]
     },
     "execution_count": 40,
     "metadata": {},
     "output_type": "execute_result"
    }
   ],
   "source": [
    "[A[indices[1], 4-indices[2]] for indices in CartesianIndices(A)]"
   ]
  },
  {
   "cell_type": "markdown",
   "id": "47ff019d-d9a1-4174-b894-2dc3ed7f0f6e",
   "metadata": {},
   "source": [
    "# 向量化运算"
   ]
  },
  {
   "cell_type": "markdown",
   "id": "ce1ad830-8089-4320-a113-27fa74bc16e4",
   "metadata": {},
   "source": [
    "## 泛函 `map()`\n",
    "\n",
    "`map(f, ...)`，最**适合搭配匿名函数**。否则，完全可以用广播，没必要用`map()`"
   ]
  },
  {
   "cell_type": "code",
   "execution_count": 3,
   "id": "d95f5211-9a2a-4029-8eeb-6b517a8d1ce5",
   "metadata": {},
   "outputs": [
    {
     "data": {
      "text/plain": [
       "3-element Vector{String}:\n",
       " \"aa\"\n",
       " \"bb\"\n",
       " \"cc\""
      ]
     },
     "execution_count": 3,
     "metadata": {},
     "output_type": "execute_result"
    }
   ],
   "source": [
    "vector = ['a', 'b', 'c']\n",
    "map(x->x^2, vector) # 等价于广播 vector .|> (x->x^2)"
   ]
  },
  {
   "cell_type": "markdown",
   "id": "25a1493e-dba0-4406-a7dc-bca66c83fa4b",
   "metadata": {},
   "source": [
    "### 多元函数\n",
    "\n",
    "`map()` 的第一个参数 f 可以是多元函数，除了 f，其他参数的长度应相等，对应元素参与计算；若长度不等，则在其中任何一个用完时停止。"
   ]
  },
  {
   "cell_type": "code",
   "execution_count": 7,
   "id": "bcee12a7-4604-4113-b1c1-a53e705c6c67",
   "metadata": {},
   "outputs": [
    {
     "data": {
      "text/plain": [
       "3-element Vector{String}:\n",
       " \"a\"\n",
       " \"bb\"\n",
       " \"ccc\""
      ]
     },
     "execution_count": 7,
     "metadata": {},
     "output_type": "execute_result"
    }
   ],
   "source": [
    "map((x, i)->x^i, vector, 1:length(vector))"
   ]
  },
  {
   "cell_type": "code",
   "execution_count": 4,
   "id": "1ed12a8c-263b-49e8-a091-4d0cf30508ea",
   "metadata": {},
   "outputs": [
    {
     "data": {
      "text/plain": [
       "3-element Vector{Int64}:\n",
       "  2\n",
       "  6\n",
       " 30"
      ]
     },
     "execution_count": 4,
     "metadata": {},
     "output_type": "execute_result"
    }
   ],
   "source": [
    "map((x, y, z) -> x^y + z, [1, 2, 3], [1, 2, 3], [1, 2, 3])"
   ]
  },
  {
   "cell_type": "markdown",
   "id": "c50ee931-a6a6-4e02-9a11-02a2af157c87",
   "metadata": {},
   "source": [
    "### 字符串\n",
    "\n",
    "`map()` 作用于字符串、且 f 返回单个字符时，会自动将字符串视为字符向量，对每个字符分别操作，最后返回合并在一起的新字符串"
   ]
  },
  {
   "cell_type": "code",
   "execution_count": 3,
   "id": "f8f6418b-9eb1-4f7f-9d0e-1bc70864924b",
   "metadata": {},
   "outputs": [
    {
     "data": {
      "text/plain": [
       "\"bcd\""
      ]
     },
     "execution_count": 3,
     "metadata": {},
     "output_type": "execute_result"
    }
   ],
   "source": [
    "map(c -> c+1, \"abc\")"
   ]
  },
  {
   "cell_type": "markdown",
   "id": "5763a7a5-4a8d-4ef4-a4a5-21a4d31bdb1f",
   "metadata": {},
   "source": [
    "## `broadcast()/.()`\n",
    "\n",
    "<font color=red>**Julia 的循环本身并不慢，所以在 Julia 中大部分时候并不鼓励向量化编程（比如`向量.+标量`、`向量.*向量`），而是鼓励写标量函数，然后通过广播的形式将这些函数组合起来。**</font>"
   ]
  },
  {
   "cell_type": "markdown",
   "id": "8fedf1a5-09d7-4c65-9c1c-2656991b222a",
   "metadata": {},
   "source": [
    "### `broadcast(f, ...args)` \n",
    "\n",
    "除了第一个参数 f, 其他参数中\n",
    "- 若只有一个 iterator，则将其余参数视为标量，只遍历这个 iterator\n",
    "- 若有更多的 iterator，则对应遍历（维度一致）或交叉遍历（维度不同，如$1\\times N$矩阵与列向量）\n",
    "- 不希望执行遍历、只想作为一个整体参与操作的 iterator，要用 tuple() 包装起来"
   ]
  },
  {
   "cell_type": "code",
   "execution_count": 6,
   "id": "8ed4617f-c8bb-4096-9fbc-1eb636b825c6",
   "metadata": {},
   "outputs": [
    {
     "data": {
      "text/plain": [
       "3-element Vector{String}:\n",
       " \"aa\"\n",
       " \"bb\"\n",
       " \"cc\""
      ]
     },
     "execution_count": 6,
     "metadata": {},
     "output_type": "execute_result"
    }
   ],
   "source": [
    "broadcast(x->x^2, vector)"
   ]
  },
  {
   "cell_type": "code",
   "execution_count": 7,
   "id": "b9921fc9-f2f4-4e72-88e2-0fe9866ea9dc",
   "metadata": {},
   "outputs": [
    {
     "data": {
      "text/plain": [
       "3-element Vector{String}:\n",
       " \"a\"\n",
       " \"bb\"\n",
       " \"ccc\""
      ]
     },
     "execution_count": 7,
     "metadata": {},
     "output_type": "execute_result"
    }
   ],
   "source": [
    "broadcast((x, i)->x^i, vector, 1:length(vector))"
   ]
  },
  {
   "cell_type": "code",
   "execution_count": 8,
   "id": "806595df-6e55-4ac2-9e53-37ddce29e8b1",
   "metadata": {},
   "outputs": [
    {
     "data": {
      "text/plain": [
       "1×3 Matrix{Int64}:\n",
       " 1  2  3"
      ]
     },
     "execution_count": 8,
     "metadata": {},
     "output_type": "execute_result"
    }
   ],
   "source": [
    "a = [1 2 3]"
   ]
  },
  {
   "cell_type": "code",
   "execution_count": 9,
   "id": "691e3370-b24f-4e02-bea4-3ce448e75005",
   "metadata": {},
   "outputs": [
    {
     "data": {
      "text/plain": [
       "1×3 Matrix{Int64}:\n",
       " 1  2  3"
      ]
     },
     "execution_count": 9,
     "metadata": {},
     "output_type": "execute_result"
    }
   ],
   "source": [
    "b = [1 2 3]"
   ]
  },
  {
   "cell_type": "code",
   "execution_count": 10,
   "id": "2cb81a11-1b00-446b-82a9-64ba947eeb87",
   "metadata": {},
   "outputs": [
    {
     "data": {
      "text/plain": [
       "1×3 Matrix{Int64}:\n",
       " 2  4  6"
      ]
     },
     "execution_count": 10,
     "metadata": {},
     "output_type": "execute_result"
    }
   ],
   "source": [
    "broadcast(+, a, b) # a, b都是行向量，对应项相加"
   ]
  },
  {
   "cell_type": "code",
   "execution_count": 11,
   "id": "7030f075-c74d-411d-aed6-7f06e7e21205",
   "metadata": {},
   "outputs": [
    {
     "data": {
      "text/plain": [
       "3-element Vector{Int64}:\n",
       " 1\n",
       " 2\n",
       " 3"
      ]
     },
     "execution_count": 11,
     "metadata": {},
     "output_type": "execute_result"
    }
   ],
   "source": [
    "c = [1,2,3]"
   ]
  },
  {
   "cell_type": "code",
   "execution_count": 12,
   "id": "4527bf7b-2de7-491b-a596-7748226a0687",
   "metadata": {},
   "outputs": [
    {
     "data": {
      "text/plain": [
       "3×3 Matrix{Int64}:\n",
       " 2  3  4\n",
       " 3  4  5\n",
       " 4  5  6"
      ]
     },
     "execution_count": 12,
     "metadata": {},
     "output_type": "execute_result"
    }
   ],
   "source": [
    "broadcast(+, a, c) # c是列向量，与a的相加变成交叉遍历"
   ]
  },
  {
   "cell_type": "code",
   "execution_count": 11,
   "id": "d33b7384-3d25-4279-80e7-230edc243f8a",
   "metadata": {},
   "outputs": [
    {
     "data": {
      "text/plain": [
       "5-element BitVector:\n",
       " 0\n",
       " 0\n",
       " 0\n",
       " 1\n",
       " 1"
      ]
     },
     "execution_count": 11,
     "metadata": {},
     "output_type": "execute_result"
    }
   ],
   "source": [
    "# 不参与遍历的 S\n",
    "V = [1, 2, 3, 4, 5]\n",
    "S = [1, 2, 3]\n",
    "V.∉tuple(S)"
   ]
  },
  {
   "cell_type": "code",
   "execution_count": 8,
   "id": "da90da06-c336-417d-ad0a-0815f55a400d",
   "metadata": {},
   "outputs": [
    {
     "data": {
      "text/plain": [
       "2-element Vector{Int64}:\n",
       " 4\n",
       " 5"
      ]
     },
     "execution_count": 8,
     "metadata": {},
     "output_type": "execute_result"
    }
   ],
   "source": [
    "V[V.∉tuple(S)]"
   ]
  },
  {
   "cell_type": "code",
   "execution_count": 9,
   "id": "083ec897-1c3e-43f9-aa1d-229d6748d976",
   "metadata": {},
   "outputs": [
    {
     "data": {
      "text/plain": [
       "2-element Vector{Int64}:\n",
       " 4\n",
       " 5"
      ]
     },
     "execution_count": 9,
     "metadata": {},
     "output_type": "execute_result"
    }
   ],
   "source": [
    "[x for x ∈ V if x ∉ S]"
   ]
  },
  {
   "cell_type": "code",
   "execution_count": 10,
   "id": "3e990ad5-5fc8-416c-956f-1be78d7c5831",
   "metadata": {},
   "outputs": [
    {
     "data": {
      "text/plain": [
       "2-element Vector{Int64}:\n",
       " 4\n",
       " 5"
      ]
     },
     "execution_count": 10,
     "metadata": {},
     "output_type": "execute_result"
    }
   ],
   "source": [
    "filter(x -> x ∉ S, V)"
   ]
  },
  {
   "cell_type": "markdown",
   "id": "64cf5c3b-69c3-4fc3-8d32-a1301ee2b610",
   "metadata": {},
   "source": [
    "### `f.(…args)`\n",
    "\n",
    "语法糖，等价于`broadcast(f, ...args)`"
   ]
  },
  {
   "cell_type": "code",
   "execution_count": 13,
   "id": "3d5fa8e1-ab90-42a8-9900-8faced821f7e",
   "metadata": {},
   "outputs": [
    {
     "data": {
      "text/plain": [
       "3-element Vector{String}:\n",
       " \"aa\"\n",
       " \"bb\"\n",
       " \"cc\""
      ]
     },
     "execution_count": 13,
     "metadata": {},
     "output_type": "execute_result"
    }
   ],
   "source": [
    "(x -> x^2).(vector)"
   ]
  },
  {
   "cell_type": "code",
   "execution_count": 14,
   "id": "272d8260-71f9-4a0d-9401-399c25dedcae",
   "metadata": {},
   "outputs": [
    {
     "data": {
      "text/plain": [
       "3-element Vector{String}:\n",
       " \"a\"\n",
       " \"bb\"\n",
       " \"ccc\""
      ]
     },
     "execution_count": 14,
     "metadata": {},
     "output_type": "execute_result"
    }
   ],
   "source": [
    "((x, i) -> x^i).(vector, 1:length(vector))"
   ]
  },
  {
   "cell_type": "code",
   "execution_count": 15,
   "id": "d1c2f743-2429-4d1c-ae9c-db6a6c9f3d10",
   "metadata": {},
   "outputs": [
    {
     "data": {
      "text/plain": [
       "3-element Vector{Int64}:\n",
       " 1\n",
       " 2\n",
       " 3"
      ]
     },
     "execution_count": 15,
     "metadata": {},
     "output_type": "execute_result"
    }
   ],
   "source": [
    "[parse(Int, x) for x ∈ collect(\"123\")]"
   ]
  },
  {
   "cell_type": "code",
   "execution_count": 16,
   "id": "c03f7875-3c1d-40a2-986a-0304b28aafcc",
   "metadata": {},
   "outputs": [
    {
     "data": {
      "text/plain": [
       "3-element Vector{Int64}:\n",
       " 1\n",
       " 2\n",
       " 3"
      ]
     },
     "execution_count": 16,
     "metadata": {},
     "output_type": "execute_result"
    }
   ],
   "source": [
    "broadcast(parse, Int, collect(\"123\"))"
   ]
  },
  {
   "cell_type": "code",
   "execution_count": 17,
   "id": "5f37820c-989d-47c7-8e7c-7789ba9e515a",
   "metadata": {},
   "outputs": [
    {
     "data": {
      "text/plain": [
       "3-element Vector{Int64}:\n",
       " 1\n",
       " 2\n",
       " 3"
      ]
     },
     "execution_count": 17,
     "metadata": {},
     "output_type": "execute_result"
    }
   ],
   "source": [
    "parse.(Int, collect(\"123\"))"
   ]
  },
  {
   "cell_type": "markdown",
   "id": "e9e23aec-9bf5-4f6f-983b-b4709ea55d7c",
   "metadata": {
    "tags": []
   },
   "source": [
    "### `.运算符`\n",
    "\n",
    "#### 功能\n",
    "\n",
    "把 `.` 放在运算符之前可以实现运算符的矢量化，甚至包括`.==` 和 `.|>`"
   ]
  },
  {
   "cell_type": "code",
   "execution_count": 18,
   "id": "55cabb11-731c-4037-bc32-1c32c7e063d5",
   "metadata": {},
   "outputs": [
    {
     "data": {
      "text/plain": [
       "(2, 4, 6)"
      ]
     },
     "execution_count": 18,
     "metadata": {},
     "output_type": "execute_result"
    }
   ],
   "source": [
    "(1, 2, 3) .* 2 # 此时的 a.*b 相当于 (*).(a, b) 和 broadcast(*, a, b)"
   ]
  },
  {
   "cell_type": "markdown",
   "id": "27534179-92ed-4247-8438-6d1ba9bddcd8",
   "metadata": {},
   "source": [
    "**不用写 `.` 就能被解析器明白向量化运算的场景：**\n",
    "\n",
    "1. 标量与向量的数乘\n",
    "2. 向量数除标量\n",
    "3. size相同的数组之间的加减法\n",
    "\n",
    "省略这些 `.` 可以式代码更简洁，看起来更像数学公式"
   ]
  },
  {
   "cell_type": "markdown",
   "id": "1ba908a0-1be5-42cc-afa8-97fd9a555e47",
   "metadata": {},
   "source": [
    "#### 性能\n",
    "\n",
    "如果表达式中连续多次出现点操作，Julia 会自动将内部的逐元操作进行融合，避免多次的循环，加快运算速度。\n",
    "\n",
    "例如，`sin.(cos.(A))` 在执行内部，不会先对 A 生成余弦结果的向量，再对该数集求正弦结果向量；而是转为一次循环操作，对 A 逐元地求余弦再求正弦后才会生成最终结果向量。"
   ]
  },
  {
   "cell_type": "markdown",
   "id": "22c2244c-6ced-490c-942c-ffece1e96ad4",
   "metadata": {},
   "source": [
    "### `@.`\n",
    "\n",
    "一个表达式中的运算全部是矢量化运算时，可以使用 `@.` 宏，简化代码"
   ]
  },
  {
   "cell_type": "code",
   "execution_count": 2,
   "id": "685fcca2-8543-452f-8b60-f21fe59746b8",
   "metadata": {},
   "outputs": [
    {
     "data": {
      "text/plain": [
       "2-element Vector{Int64}:\n",
       " 14\n",
       " 76"
      ]
     },
     "execution_count": 2,
     "metadata": {},
     "output_type": "execute_result"
    }
   ],
   "source": [
    "x = [1, 2]\n",
    "@. 3x^2 + 4x + 7x^3 # 等效于 3 .* x .^ 2 .+ 4 .* x .+ 7 .* x .^ 3"
   ]
  },
  {
   "cell_type": "markdown",
   "id": "9197f558-9cda-44fd-9b65-90d89a1dbf17",
   "metadata": {},
   "source": [
    "## `mapslices(f, A; dims)`\n",
    "\n",
    "处理多维数组时，沿特定维度（固定其他维度的坐标，只改变这一个维度的坐标）应用函数 `mapslices(f, A; dims)`\n",
    "\n",
    "> 就像 R 中的 `Apply(x, Margin, FUN)`"
   ]
  },
  {
   "cell_type": "markdown",
   "id": "bd550bc2-574e-4f29-b819-b7efbddd72b5",
   "metadata": {},
   "source": [
    "dims is an integer vector. The results are **concatenated along the remaining dimensions**. For example, if dims is [1,2] and A is 4-dimensional, f is called on A[:,:,i,j] for all i and j."
   ]
  },
  {
   "cell_type": "code",
   "execution_count": 19,
   "id": "155844ef-3023-488b-bc9d-52ef6dea7ac4",
   "metadata": {},
   "outputs": [
    {
     "data": {
      "text/plain": [
       "3×3 Matrix{Int64}:\n",
       " 1  2  3\n",
       " 4  5  6\n",
       " 7  8  9"
      ]
     },
     "execution_count": 19,
     "metadata": {},
     "output_type": "execute_result"
    }
   ],
   "source": [
    "my_example_matrix = [[1 2 3]\n",
    "                     [4 5 6]\n",
    "                     [7 8 9]]"
   ]
  },
  {
   "cell_type": "code",
   "execution_count": 20,
   "id": "abd35922-546e-4970-ae9f-287f580269f9",
   "metadata": {},
   "outputs": [
    {
     "data": {
      "text/plain": [
       "1×3 Matrix{Int64}:\n",
       " 12  15  18"
      ]
     },
     "execution_count": 20,
     "metadata": {},
     "output_type": "execute_result"
    }
   ],
   "source": [
    "# dims = 1，对第一个维度（行）应用 sum（sum 将所有行归约为一行）\n",
    "mapslices(sum, my_example_matrix; dims=1)"
   ]
  },
  {
   "cell_type": "code",
   "execution_count": 21,
   "id": "a29748b8-3d06-441a-8e03-e5de13bfc4b2",
   "metadata": {},
   "outputs": [
    {
     "data": {
      "text/plain": [
       "3×1 Matrix{Int64}:\n",
       "  6\n",
       " 15\n",
       " 24"
      ]
     },
     "execution_count": 21,
     "metadata": {},
     "output_type": "execute_result"
    }
   ],
   "source": [
    "# dims = 2，对第一个维度（列）应用 sum（sum 将所有列归约为一列）\n",
    "mapslices(sum, my_example_matrix; dims=2)"
   ]
  },
  {
   "cell_type": "markdown",
   "id": "94732e9d-0686-4aef-a6e0-1e294a5c1086",
   "metadata": {},
   "source": [
    "# LoopVectorization.jl\n",
    "\n",
    "## `@turbo`\n",
    "\n",
    "LoopVectorization.jl 库的 `@turbo` 宏，可以加速广播表达式和 for 循环"
   ]
  },
  {
   "cell_type": "code",
   "execution_count": 9,
   "id": "3f27d54e-aeb7-476e-b81d-fbb81c4c9ddd",
   "metadata": {},
   "outputs": [],
   "source": [
    "using LoopVectorization, BenchmarkTools\n",
    "\n",
    "\n",
    "\"\"\"\n",
    "手写矩阵乘法\n",
    "\"\"\"\n",
    "function mygemm!(C, A, B)\n",
    "    @inbounds @fastmath for m ∈ axes(A, 1), n ∈ axes(B, 2)\n",
    "        Cmn = zero(eltype(C))\n",
    "        for k ∈ axes(A, 2)\n",
    "            Cmn += A[m, k] * B[k, n]\n",
    "        end\n",
    "        C[m, n] = Cmn\n",
    "    end\n",
    "end\n",
    "\n",
    "\n",
    "\"\"\"\n",
    "手写矩阵乘法，LoopVectorization优化版\n",
    "\"\"\"\n",
    "function mygemmavx!(C, A, B)\n",
    "    @turbo for m ∈ axes(A, 1), n ∈ axes(B, 2)\n",
    "        Cmn = zero(eltype(C))\n",
    "        for k ∈ axes(A, 2)\n",
    "            Cmn += A[m, k] * B[k, n]\n",
    "        end\n",
    "        C[m, n] = Cmn\n",
    "    end\n",
    "end\n",
    "\n",
    "\n",
    "M, K, N = 191, 189, 171;\n",
    "\n",
    "C = zeros(M, N);\n",
    "A = randn(M, K);\n",
    "B = randn(K, N);"
   ]
  },
  {
   "cell_type": "code",
   "execution_count": 10,
   "id": "44e67e96-22f6-43e0-820d-5dfdd092e4dc",
   "metadata": {},
   "outputs": [
    {
     "data": {
      "text/plain": [
       "BenchmarkTools.Trial: 964 samples with 1 evaluation.\n",
       " Range \u001b[90m(\u001b[39m\u001b[36m\u001b[1mmin\u001b[22m\u001b[39m … \u001b[35mmax\u001b[39m\u001b[90m):  \u001b[39m\u001b[36m\u001b[1m4.897 ms\u001b[22m\u001b[39m … \u001b[35m 25.397 ms\u001b[39m  \u001b[90m┊\u001b[39m GC \u001b[90m(\u001b[39mmin … max\u001b[90m): \u001b[39m0.00% … 0.00%\n",
       " Time  \u001b[90m(\u001b[39m\u001b[34m\u001b[1mmedian\u001b[22m\u001b[39m\u001b[90m):     \u001b[39m\u001b[34m\u001b[1m4.997 ms               \u001b[22m\u001b[39m\u001b[90m┊\u001b[39m GC \u001b[90m(\u001b[39mmedian\u001b[90m):    \u001b[39m0.00%\n",
       " Time  \u001b[90m(\u001b[39m\u001b[32m\u001b[1mmean\u001b[22m\u001b[39m ± \u001b[32mσ\u001b[39m\u001b[90m):   \u001b[39m\u001b[32m\u001b[1m5.176 ms\u001b[22m\u001b[39m ± \u001b[32m858.744 μs\u001b[39m  \u001b[90m┊\u001b[39m GC \u001b[90m(\u001b[39mmean ± σ\u001b[90m):  \u001b[39m0.00% ± 0.00%\n",
       "\n",
       "  \u001b[39m█\u001b[39m▅\u001b[39m \u001b[39m \u001b[39m \u001b[34m \u001b[39m\u001b[39m \u001b[39m \u001b[39m \u001b[39m \u001b[39m \u001b[39m \u001b[39m \u001b[32m \u001b[39m\u001b[39m \u001b[39m \u001b[39m \u001b[39m \u001b[39m \u001b[39m \u001b[39m \u001b[39m \u001b[39m \u001b[39m \u001b[39m \u001b[39m \u001b[39m \u001b[39m \u001b[39m \u001b[39m \u001b[39m \u001b[39m \u001b[39m \u001b[39m \u001b[39m \u001b[39m \u001b[39m \u001b[39m \u001b[39m \u001b[39m \u001b[39m \u001b[39m \u001b[39m \u001b[39m \u001b[39m \u001b[39m \u001b[39m \u001b[39m \u001b[39m \u001b[39m \u001b[39m \u001b[39m \u001b[39m \u001b[39m \u001b[39m \u001b[39m \u001b[39m \u001b[39m \u001b[39m \u001b[39m \u001b[39m \n",
       "  \u001b[39m█\u001b[39m█\u001b[39m▆\u001b[39m▄\u001b[39m▃\u001b[34m▃\u001b[39m\u001b[39m▃\u001b[39m▄\u001b[39m▃\u001b[39m▃\u001b[39m▃\u001b[39m▃\u001b[39m▃\u001b[32m▃\u001b[39m\u001b[39m▃\u001b[39m▄\u001b[39m▃\u001b[39m▃\u001b[39m▃\u001b[39m▃\u001b[39m▃\u001b[39m▃\u001b[39m▃\u001b[39m▃\u001b[39m▃\u001b[39m▄\u001b[39m▄\u001b[39m▄\u001b[39m▃\u001b[39m▃\u001b[39m▂\u001b[39m▃\u001b[39m▂\u001b[39m▂\u001b[39m▁\u001b[39m▂\u001b[39m▂\u001b[39m▂\u001b[39m▂\u001b[39m▂\u001b[39m▂\u001b[39m▂\u001b[39m▂\u001b[39m▂\u001b[39m▁\u001b[39m▂\u001b[39m▁\u001b[39m▁\u001b[39m▁\u001b[39m▂\u001b[39m▂\u001b[39m▁\u001b[39m▂\u001b[39m▂\u001b[39m▂\u001b[39m▁\u001b[39m▁\u001b[39m▂\u001b[39m▂\u001b[39m \u001b[39m▃\n",
       "  4.9 ms\u001b[90m          Histogram: frequency by time\u001b[39m        6.12 ms \u001b[0m\u001b[1m<\u001b[22m\n",
       "\n",
       " Memory estimate\u001b[90m: \u001b[39m\u001b[33m0 bytes\u001b[39m, allocs estimate\u001b[90m: \u001b[39m\u001b[33m0\u001b[39m."
      ]
     },
     "execution_count": 10,
     "metadata": {},
     "output_type": "execute_result"
    }
   ],
   "source": [
    "# 多次运行统计时长\n",
    "@benchmark mygemm!($C, $A, $B)"
   ]
  },
  {
   "cell_type": "code",
   "execution_count": 11,
   "id": "f183ae46-8d95-4bca-8b28-8b3ce2626c51",
   "metadata": {},
   "outputs": [
    {
     "data": {
      "text/plain": [
       "BenchmarkTools.Trial: 10000 samples with 1 evaluation.\n",
       " Range \u001b[90m(\u001b[39m\u001b[36m\u001b[1mmin\u001b[22m\u001b[39m … \u001b[35mmax\u001b[39m\u001b[90m):  \u001b[39m\u001b[36m\u001b[1m203.600 μs\u001b[22m\u001b[39m … \u001b[35m714.200 μs\u001b[39m  \u001b[90m┊\u001b[39m GC \u001b[90m(\u001b[39mmin … max\u001b[90m): \u001b[39m0.00% … 0.00%\n",
       " Time  \u001b[90m(\u001b[39m\u001b[34m\u001b[1mmedian\u001b[22m\u001b[39m\u001b[90m):     \u001b[39m\u001b[34m\u001b[1m208.600 μs               \u001b[22m\u001b[39m\u001b[90m┊\u001b[39m GC \u001b[90m(\u001b[39mmedian\u001b[90m):    \u001b[39m0.00%\n",
       " Time  \u001b[90m(\u001b[39m\u001b[32m\u001b[1mmean\u001b[22m\u001b[39m ± \u001b[32mσ\u001b[39m\u001b[90m):   \u001b[39m\u001b[32m\u001b[1m223.575 μs\u001b[22m\u001b[39m ± \u001b[32m 42.193 μs\u001b[39m  \u001b[90m┊\u001b[39m GC \u001b[90m(\u001b[39mmean ± σ\u001b[90m):  \u001b[39m0.00% ± 0.00%\n",
       "\n",
       "  \u001b[39m█\u001b[34m█\u001b[39m\u001b[39m▅\u001b[39m▃\u001b[39m▃\u001b[32m▂\u001b[39m\u001b[39m▁\u001b[39m▁\u001b[39m▂\u001b[39m▂\u001b[39m▂\u001b[39m▂\u001b[39m▂\u001b[39m▂\u001b[39m▂\u001b[39m▁\u001b[39m \u001b[39m▁\u001b[39m▄\u001b[39m▃\u001b[39m▁\u001b[39m \u001b[39m \u001b[39m \u001b[39m \u001b[39m \u001b[39m \u001b[39m \u001b[39m \u001b[39m \u001b[39m \u001b[39m \u001b[39m \u001b[39m \u001b[39m \u001b[39m \u001b[39m \u001b[39m \u001b[39m \u001b[39m \u001b[39m \u001b[39m \u001b[39m \u001b[39m \u001b[39m \u001b[39m \u001b[39m \u001b[39m \u001b[39m \u001b[39m \u001b[39m \u001b[39m \u001b[39m \u001b[39m \u001b[39m \u001b[39m \u001b[39m \u001b[39m \u001b[39m \u001b[39m \u001b[39m \u001b[39m \u001b[39m▂\n",
       "  \u001b[39m█\u001b[34m█\u001b[39m\u001b[39m█\u001b[39m█\u001b[39m█\u001b[32m█\u001b[39m\u001b[39m█\u001b[39m█\u001b[39m█\u001b[39m█\u001b[39m█\u001b[39m█\u001b[39m█\u001b[39m█\u001b[39m█\u001b[39m█\u001b[39m█\u001b[39m█\u001b[39m█\u001b[39m█\u001b[39m█\u001b[39m█\u001b[39m█\u001b[39m▆\u001b[39m▆\u001b[39m▆\u001b[39m▅\u001b[39m▅\u001b[39m▄\u001b[39m▃\u001b[39m▅\u001b[39m▄\u001b[39m▅\u001b[39m▄\u001b[39m▃\u001b[39m▃\u001b[39m▄\u001b[39m▄\u001b[39m▅\u001b[39m▄\u001b[39m▆\u001b[39m▅\u001b[39m▃\u001b[39m▄\u001b[39m▄\u001b[39m▅\u001b[39m▅\u001b[39m▁\u001b[39m▄\u001b[39m▄\u001b[39m▁\u001b[39m▄\u001b[39m▄\u001b[39m▄\u001b[39m▄\u001b[39m▃\u001b[39m▅\u001b[39m▆\u001b[39m▆\u001b[39m▄\u001b[39m▃\u001b[39m \u001b[39m█\n",
       "  204 μs\u001b[90m        \u001b[39m\u001b[90mHistogram: \u001b[39m\u001b[90m\u001b[1mlog(\u001b[22m\u001b[39m\u001b[90mfrequency\u001b[39m\u001b[90m\u001b[1m)\u001b[22m\u001b[39m\u001b[90m by time\u001b[39m        447 μs \u001b[0m\u001b[1m<\u001b[22m\n",
       "\n",
       " Memory estimate\u001b[90m: \u001b[39m\u001b[33m0 bytes\u001b[39m, allocs estimate\u001b[90m: \u001b[39m\u001b[33m0\u001b[39m."
      ]
     },
     "execution_count": 11,
     "metadata": {},
     "output_type": "execute_result"
    }
   ],
   "source": [
    "# 多次运行统计时长\n",
    "@benchmark mygemmavx!($C, $A, $B)"
   ]
  },
  {
   "cell_type": "markdown",
   "id": "f8ccf5d8-26fb-4617-a586-c022285cf475",
   "metadata": {},
   "source": [
    "可见<font color=red>**经过 `@trubo` 优化后，计算速度为原先的 20 倍**</font>"
   ]
  },
  {
   "cell_type": "code",
   "execution_count": null,
   "id": "7c436b79-c6c4-4c23-b1c4-8d2807de93a5",
   "metadata": {},
   "outputs": [],
   "source": []
  }
 ],
 "metadata": {
  "kernelspec": {
   "display_name": "Julia 1.8.5",
   "language": "julia",
   "name": "julia-1.8"
  },
  "language_info": {
   "file_extension": ".jl",
   "mimetype": "application/julia",
   "name": "julia",
   "version": "1.8.5"
  },
  "toc-autonumbering": true
 },
 "nbformat": 4,
 "nbformat_minor": 5
}
