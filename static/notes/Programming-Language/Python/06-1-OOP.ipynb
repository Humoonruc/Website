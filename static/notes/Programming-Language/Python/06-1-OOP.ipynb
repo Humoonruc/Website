{
 "cells": [
  {
   "cell_type": "raw",
   "id": "903ee65b-622a-4651-914a-e8f8ecc34220",
   "metadata": {},
   "source": [
    "---\n",
    "title: 6 OOP\n",
    "author: Humoon\n",
    "date: ''\n",
    "format:\n",
    "  html:\n",
    "    toc: true\n",
    "    number-sections: true\n",
    "    code-tools: true\n",
    "    highlight-style: monokai\n",
    "    code-copy: true\n",
    "    self-contained: true\n",
    "execute:\n",
    "  cache: true\n",
    "  daemon: true\n",
    "  output: asis\n",
    "---"
   ]
  },
  {
   "cell_type": "code",
   "execution_count": null,
   "id": "08f53149-fb18-4244-b0b0-345ec861c8bb",
   "metadata": {},
   "outputs": [],
   "source": []
  }
 ],
 "metadata": {
  "kernelspec": {
   "display_name": "Python 3 (ipykernel)",
   "language": "python",
   "name": "python3"
  },
  "language_info": {
   "codemirror_mode": {
    "name": "ipython",
    "version": 3
   },
   "file_extension": ".py",
   "mimetype": "text/x-python",
   "name": "python",
   "nbconvert_exporter": "python",
   "pygments_lexer": "ipython3",
   "version": "3.10.5"
  }
 },
 "nbformat": 4,
 "nbformat_minor": 5
}
