{
 "cells": [
  {
   "cell_type": "markdown",
   "id": "b91ed24e-29c5-48f2-992d-4ea01def9fc3",
   "metadata": {},
   "source": [
    "# 可迭代对象"
   ]
  },
  {
   "cell_type": "markdown",
   "id": "f0d42996-89e8-4be2-ad5c-fefc3e85dddb",
   "metadata": {},
   "source": [
    "## Range\n",
    "\n",
    "`range(start, stop[, step])` 是左闭右开的，返回 range 对象\n",
    "\n",
    "可以用 `list()` 展开为 list，或 `tuple()` 展开为元组\n"
   ]
  },
  {
   "cell_type": "code",
   "execution_count": 5,
   "id": "5da984a4",
   "metadata": {},
   "outputs": [
    {
     "name": "stdout",
     "output_type": "stream",
     "text": [
      "<class 'range'>\n"
     ]
    },
    {
     "data": {
      "text/plain": [
       "[1, 3, 5, 7, 9]"
      ]
     },
     "execution_count": 5,
     "metadata": {},
     "output_type": "execute_result"
    }
   ],
   "source": [
    "print(type(range(1, 11)))\n",
    "list(range(1, 11, 2))"
   ]
  },
  {
   "cell_type": "markdown",
   "id": "ee73a849-64f9-4a52-84aa-3d1c08261e5f",
   "metadata": {},
   "source": [
    "## 序列\n",
    "\n",
    "包括**字符串**、**元组**和**列表**"
   ]
  },
  {
   "cell_type": "markdown",
   "id": "25fd5c13-00c8-404e-806b-d9c1a54e41c3",
   "metadata": {},
   "source": [
    "### 通用的操作符、方法和函数\n",
    "\n",
    "操作、方法和函数|描述\n",
    "--|--\n",
    "x (not) in s|成员判断\n",
    "`==`|比较运算\n",
    "`for...in...`|遍历\n",
    "s + t|连接\n",
    "`s*n` 或 `n*s`|重复 n 次\n",
    "s[i]|索引\n",
    "s[m:n:k]|切片\n",
    "len(s)|序列 size\n",
    "min(s), max(s)|返回最值\n",
    "s.index(x)|返回位置索引\n",
    "s.index(x, i, j)|i 到 j 之间第一次出现 x 的位置索引\n",
    "s.count(x)|出现 x 的总次数"
   ]
  },
  {
   "cell_type": "markdown",
   "id": "3289a3dd-dd52-4fe0-83d2-827b38af995f",
   "metadata": {},
   "source": [
    "### 序列封包和序列解包\n",
    "\n",
    "本质是多对一、一对多、多对多的赋值方式\n",
    "\n",
    "解包时，如果解包出来的元素个数和变量个数不对应，会引发`ValueError`异常，错误信息为：`too many values to unpack`（解包的值太多）或`not enough values to unpack`（解包的值不足）。"
   ]
  },
  {
   "cell_type": "code",
   "execution_count": 6,
   "id": "ea74e560-c388-4eb5-95ea-4875a3fc9a22",
   "metadata": {},
   "outputs": [
    {
     "name": "stdout",
     "output_type": "stream",
     "text": [
      "(10, 20, 30)\n",
      "<class 'tuple'>\n",
      "20\n"
     ]
    }
   ],
   "source": [
    "# 封包\n",
    "a = 1, 10, 100\n",
    "print(type(a), a)  # <class 'tuple'> (1, 10, 100)\n",
    "\n",
    "# 解包\n",
    "i, j, k = a\n",
    "print(i, j, k)  # 1 10 100\n",
    "\n",
    "a = 1, 10, 100, 1000\n",
    "# i, j, k = a             # ValueError: too many values to unpack (expected 3)\n",
    "# i, j, k, l, m, n = a    # ValueError: not enough values to unpack (expected 6, got 4)"
   ]
  },
  {
   "cell_type": "markdown",
   "id": "2ef13583-93c3-4dcb-a32b-12abefb16166",
   "metadata": {},
   "source": [
    "有一种解决变量个数少于元素的个数方法，就是使用星号表达式。\n",
    "\n",
    "需要注意的是，用星号表达式修饰的变量会变成一个列表，列表中有0个或多个元素。\n",
    "\n",
    "在解包语法中，星号表达式只能出现一次。"
   ]
  },
  {
   "cell_type": "code",
   "execution_count": 3,
   "id": "53f2fe65-085c-4caf-8748-5d7ad44e59d6",
   "metadata": {},
   "outputs": [
    {
     "name": "stdout",
     "output_type": "stream",
     "text": [
      "0\n",
      "1\n",
      "[2, 3, 4, 5, 6, 7, 8, 9]\n",
      "[0, 1, 2, 3, 4, 5, 6, 7, 8]\n",
      "9\n",
      "0\n",
      "[1, 2, 3, 4, 5, 6, 7, 8]\n",
      "9\n"
     ]
    }
   ],
   "source": [
    "# 部分解包，*代表一个列表（注意，不会是元组）\n",
    "first, second, *rest = range(10) # first、second保存前2个元素，rest列表包含剩下的元素\n",
    "print(first) \n",
    "print(second) \n",
    "print(rest) \n",
    "*begin, last = range(10) # last保存最后一个元素，begin保存前面剩下的元素\n",
    "print(begin) \n",
    "print(last) \n",
    "first, *middle, last = range(10) # first保存第一个元素，last保存最后一个元素，middle保存中间剩下的元素\n",
    "print(first) \n",
    "print(middle) \n",
    "print(last)"
   ]
  },
  {
   "cell_type": "markdown",
   "id": "efad2601-3083-4c50-b2b1-cd71ca77c784",
   "metadata": {},
   "source": [
    "### 元组\n",
    "\n",
    "一旦用`()`或`tuple()`创建，不得被修改\n",
    "\n",
    "**当元组只有一个元素时，要在元素后面加逗号**`('th',)`，否则就不是元组，而是改变运算优先级的圆括号，`('th')`等同于`'th'`\n",
    "\n",
    "`tuple()`可以将 list, range 等对象转换为元组"
   ]
  },
  {
   "cell_type": "code",
   "execution_count": 25,
   "id": "75a9a7a1-f3dd-45e3-9de3-b27fb131f455",
   "metadata": {},
   "outputs": [
    {
     "name": "stdout",
     "output_type": "stream",
     "text": [
      "<class 'tuple'> <class 'tuple'>\n",
      "3 4\n",
      "30 30\n",
      "四川成都 四川成都\n",
      "骆昊\n",
      "40\n",
      "True\n",
      "四川成都\n",
      "False\n",
      "True\n",
      "(30, 10, 55, '骆昊', 40, True, '四川成都')\n",
      "(30, '骆昊', '四川成都')\n",
      "False\n",
      "False\n",
      "True\n"
     ]
    }
   ],
   "source": [
    "# 定义一个三元组\n",
    "t1 = (30, 10, 55)\n",
    "# 定义一个四元组\n",
    "t2 = ('骆昊', 40, True, '四川成都')\n",
    "\n",
    "# 查看变量的类型\n",
    "print(type(t1), type(t2))    # <class 'tuple'> <class 'tuple'>\n",
    "# 查看元组中元素的数量\n",
    "print(len(t1), len(t2))      # 3 4\n",
    "\n",
    "# 通过索引运算获取元组中的元素\n",
    "print(t1[0], t1[-3])         # 30 30\n",
    "print(t2[3], t2[-1])         # 四川成都 四川成都\n",
    "\n",
    "# 循环遍历元组中的元素\n",
    "for member in t2:\n",
    "    print(member)\n",
    "\n",
    "# 成员运算\n",
    "print(100 in t1)    # False\n",
    "print(40 in t2)     # True\n",
    "\n",
    "# 拼接\n",
    "t3 = t1 + t2\n",
    "print(t3)           # (30, 10, 55, '骆昊', 40, True, '四川成都')\n",
    "\n",
    "# 切片\n",
    "print(t3[::3])      # (30, '骆昊', '四川成都')\n",
    "\n",
    "# 比较运算\n",
    "print(t1 == t3)    # False\n",
    "print(t1 >= t3)    # False\n",
    "print(t1 < (30, 11, 55))    # True"
   ]
  },
  {
   "cell_type": "markdown",
   "id": "8813fff4",
   "metadata": {},
   "source": [
    "#### 应用场景\n",
    "\n",
    "交换两个变量的值"
   ]
  },
  {
   "cell_type": "code",
   "execution_count": 31,
   "id": "ca3e8536",
   "metadata": {},
   "outputs": [],
   "source": [
    "a, b = 1, 2\n",
    "a, b = b, a"
   ]
  },
  {
   "cell_type": "markdown",
   "id": "464d52a7-a5b3-430b-90e4-2aefc292db8a",
   "metadata": {},
   "source": [
    "### 列表\n",
    "\n",
    "列表用`[]`或`list()`创建，可以被修改（相比之下，字符串是不可变对象，不能被修改），可以装载不同类型的元素\n",
    "\n",
    "`list()`可以将`tuple`, `range`等对象转换为列表\n",
    "\n",
    "将列表/字典赋给一个变量时，实际上是将列表的“引用”赋给了该变量（相比之下，R语言在赋值时始终要复制变量，而非传递引用）；将字符串/整数或元组赋给一个变量时，变量就保存值本身。"
   ]
  },
  {
   "cell_type": "code",
   "execution_count": 16,
   "id": "bcca0353-4489-4a37-9716-6c15e7715667",
   "metadata": {},
   "outputs": [
    {
     "name": "stdout",
     "output_type": "stream",
     "text": [
      "[1, 2, 3, 4] [1, 2, 3, 4]\n"
     ]
    }
   ],
   "source": [
    "ls = [1, 2, 3]\n",
    "lt = ls # 仅赋值未创建，并没有拷贝，而是两个名字指向同一个对象\n",
    "lt.append(4)\n",
    "print(ls, lt) # lt 与 ls 是相同的\n",
    "# 相比之下，R 中用向量赋值，默认发生拷贝"
   ]
  },
  {
   "cell_type": "markdown",
   "id": "03f28e84-5584-475c-97dd-05918d0fa656",
   "metadata": {},
   "source": [
    "#### 列表的方法"
   ]
  },
  {
   "cell_type": "code",
   "execution_count": 33,
   "id": "f87e185b-7aff-453b-a18b-0e38dd2a7410",
   "metadata": {},
   "outputs": [],
   "source": [
    "# dir(list)"
   ]
  },
  {
   "cell_type": "markdown",
   "id": "46b974d3-b890-4ffd-8d9e-50a4a21a77e1",
   "metadata": {},
   "source": [
    "方法|描述\n",
    "--|--\n",
    "`ls.copy()`|创建一个新列表并**复制**\n",
    "`ls1 + ls2`|拼接\n",
    "`ls * 3`|复制\n",
    "`a in ls`|成员运算\n",
    "`ls1 == ls2`|相等运算，需要对应元素均相等\n",
    "`len(ls)`|size\n",
    "`ls[n]`, `ls[m:n:k]`|索引和切片。索引可以为负值，表示从末尾往前数。切片中 m 省略表示 0，n 省略表示 -1\n",
    "`ls.index(x, i, j)`|在 i, j 之间检索，返回 x 的 index\n",
    "`ls.count(x)`|返回元素出现的次数\n",
    "`ls.append(x)`|添加元素 x，**即使 x 为元组、列表，也将其作为元素添加，形成嵌套列表**\n",
    "`ls.extend(x)`|添加 x 中的所有元素，避免形成嵌套列表\n",
    "`ls.insert(index, x)`|x 作为一个元素（无论其本身是什么结构），在 index 的位置插入\n",
    "`del ls[m:n:k]`|删除相应切片的子列。注意，del 不是函数，而是一个语句，可以删除任意对象。<br>删除子列也可以将这个子列赋值为空列表 `[]`\n",
    "`ls.pop(i)`|i 位置元素取出并在原列表中删除；若不指定参数，则为出栈功能，取出最后一个元素。<br>如果索引的值超出了范围，会引发`IndexError`异常，错误消息是：`pop index out of range`。\n",
    "`ls.remove(x)`|将 ls 中出现的第一个 x 删除，若找不到会引发`ValueError`异常，错误消息是：`list.remove(x): x not in list`\n",
    "`ls.clear()`|清空列表\n",
    "`ls.reverse()`|反转列表\n",
    "`ls.sort(str, key, reverse=False)`|原地排序，不要写出`spam = spam.sort()`这样的代码。key 为函数，以它的返回值为排序依据。"
   ]
  },
  {
   "cell_type": "code",
   "execution_count": 11,
   "id": "25d472ed-7b29-4e60-aa76-abfeda4e0a9d",
   "metadata": {},
   "outputs": [
    {
     "name": "stdout",
     "output_type": "stream",
     "text": [
      "['cat', 1, 2, 3, 4, 'tiger', 1024]\n",
      "[1, 2, 4, 'tiger']\n",
      "[1, 2, 4, 'tiger', 1, 2, 4, 'tiger']\n",
      "[1, 2, 4, 'add', 'tiger', 1, 2, 4, 'tiger']\n"
     ]
    }
   ],
   "source": [
    "ls = ['cat', 'dog', 'tiger', 1024]\n",
    "ls[1:2] = [1, 2, 3, 4]\n",
    "print(ls)\n",
    "del ls[::3]\n",
    "print(ls)\n",
    "ls *= 2\n",
    "print(ls)\n",
    "ls.insert(3, 'add') # 在 3 的位置插入\n",
    "print(ls)"
   ]
  },
  {
   "cell_type": "code",
   "execution_count": 13,
   "id": "3ea944a7-1cce-468d-8b0f-0c64d0eedcc9",
   "metadata": {},
   "outputs": [
    {
     "name": "stdout",
     "output_type": "stream",
     "text": [
      "['Erlang', 'Go', 'Kotlin', 'Python', 'Ruby', 'Swift']\n",
      "['Go', 'Ruby', 'Swift', 'Erlang', 'Kotlin', 'Python']\n",
      "['Erlang', 'Kotlin', 'Python', 'Swift', 'Ruby', 'Go']\n"
     ]
    }
   ],
   "source": [
    "b_list = ['Python', 'Swift', 'Ruby', 'Go', 'Kotlin', 'Erlang']\n",
    "\n",
    "b_list.sort() # 字符串默认按字典顺序排序\n",
    "print(b_list)\n",
    "\n",
    "b_list.sort(key=len) # 指定key为len，指定使用len函数对集合元素生成比较的键，也就是按字符串的长度比较大小\n",
    "print(b_list) \n",
    "\n",
    "b_list.sort(key=len, reverse=True) # 指定反向排序\n",
    "print(b_list)"
   ]
  },
  {
   "cell_type": "code",
   "execution_count": 17,
   "id": "b73d02ef",
   "metadata": {},
   "outputs": [
    {
     "name": "stdout",
     "output_type": "stream",
     "text": [
      "['Python', 'Java', 'Go', 'Kotlin', 'Swift']\n",
      "['Python', 'Java', 'SQL', 'Go', 'Kotlin', 'Swift']\n",
      "['Python', 'SQL', 'Go', 'Kotlin', 'Swift']\n",
      "['SQL', 'Go', 'Kotlin']\n",
      "[]\n"
     ]
    }
   ],
   "source": [
    "items = ['Python', 'Java', 'Go', 'Kotlin']\n",
    "\n",
    "# 使用append方法在列表尾部添加元素\n",
    "items.append('Swift')\n",
    "print(items)  # ['Python', 'Java', 'Go', 'Kotlin', 'Swift']\n",
    "\n",
    "# 使用insert方法在列表指定索引位置插入元素\n",
    "items.insert(2, 'SQL')\n",
    "print(items)  # ['Python', 'Java', 'SQL', 'Go', 'Kotlin', 'Swift']\n",
    "\n",
    "# 删除指定的元素\n",
    "items.remove('Java')\n",
    "print(items)  # ['Python', 'SQL', 'Go', 'Kotlin', 'Swift']\n",
    "\n",
    "# 删除指定索引位置的元素\n",
    "items.pop(0)\n",
    "items.pop(len(items) - 1)\n",
    "print(items)  # ['SQL', 'Go', 'Kotlin']\n",
    "\n",
    "# 清空列表中的元素\n",
    "items.clear()\n",
    "print(items)  # []"
   ]
  },
  {
   "cell_type": "markdown",
   "id": "23c98ffc-ae77-403e-a886-331a84a064a2",
   "metadata": {},
   "source": [
    "### 列表推导式\n",
    "\n",
    "用推导式生成列表的速度比 for 循环快得多"
   ]
  },
  {
   "cell_type": "code",
   "execution_count": 32,
   "id": "b88c6cfb",
   "metadata": {},
   "outputs": [
    {
     "name": "stdout",
     "output_type": "stream",
     "text": [
      "['h', 'l', 'l', 'w', 'r', 'l', 'd']\n",
      "['A1', 'A2', 'B1', 'B2', 'C1', 'C2']\n"
     ]
    }
   ],
   "source": [
    "# 创建一个由'hello world'中除空格和元音字母外的字符构成的列表\n",
    "items2 = [x for x in 'hello world' if x not in ' aeiou']\n",
    "print(items2)  # ['h', 'l', 'l', 'w', 'r', 'l', 'd']\n",
    "\n",
    "# 创建一个由个两个字符串中字符的笛卡尔积构成的列表\n",
    "items3 = [x + y for x in 'ABC' for y in '12']\n",
    "print(items3)  # ['A1', 'A2', 'B1', 'B2', 'C1', 'C2']"
   ]
  },
  {
   "cell_type": "markdown",
   "id": "48b06010",
   "metadata": {},
   "source": [
    "### 嵌套列表的一个问题\n",
    "\n",
    "不能用`[[0] * 3] * 5]`这种方式来创建嵌套列表"
   ]
  },
  {
   "cell_type": "code",
   "execution_count": 21,
   "id": "b52e7ac6",
   "metadata": {},
   "outputs": [
    {
     "name": "stdout",
     "output_type": "stream",
     "text": [
      "[[0, 0, 0], [0, 0, 0], [0, 0, 0], [0, 0, 0], [0, 0, 0]]\n",
      "[[95, 0, 0], [95, 0, 0], [95, 0, 0], [95, 0, 0], [95, 0, 0]]\n"
     ]
    }
   ],
   "source": [
    "scores = [[0] * 3] * 5\n",
    "print(scores)\n",
    "scores[0][0] = 95\n",
    "print(scores) # 本意是对一个二层元素赋值，但结果很诡异"
   ]
  },
  {
   "cell_type": "code",
   "execution_count": 24,
   "id": "070cd1a5",
   "metadata": {},
   "outputs": [
    {
     "name": "stdout",
     "output_type": "stream",
     "text": [
      "[[95, 0, 0], [0, 0, 0], [0, 0, 0], [0, 0, 0], [0, 0, 0]]\n"
     ]
    }
   ],
   "source": [
    "scores = [[0] * 3 for _ in range(5)] # 创建嵌套列表的正确方式\n",
    "scores[0][0] = 95\n",
    "print(scores) # 这样就对了"
   ]
  },
  {
   "cell_type": "markdown",
   "id": "6e5f25de-4b1a-4054-b0b4-6c69ff2d75ed",
   "metadata": {},
   "source": [
    "## 字典\n",
    "\n",
    "\n",
    "### 结构\n",
    "- 字典类型是“映射”的体现\n",
    "- 字典是键值对的集合，键值对之间无序\n",
    "- key 不允许重复\n",
    "- key 必须是不可变的数据类型，因此元组可以作为 key，而列表不可以\n",
    "- key 是索引的扩展。list 相当于 key 只能是整数的 dict，但也有一个重要的区别：list 不允许对不存在的索引赋值，而 dict 允许。"
   ]
  },
  {
   "cell_type": "code",
   "execution_count": 12,
   "id": "fdea0736-bbaf-4610-9562-b1b7659b094c",
   "metadata": {},
   "outputs": [
    {
     "data": {
      "text/plain": [
       "True"
      ]
     },
     "execution_count": 12,
     "metadata": {},
     "output_type": "execute_result"
    }
   ],
   "source": [
    "eggs = {'name': 'Zophie', 'species': 'cat', 'age': '8'}\n",
    "ham = {'species': 'cat', 'age': '8', 'name': 'Zophie'}\n",
    "eggs == ham"
   ]
  },
  {
   "cell_type": "markdown",
   "id": "8309030c-0c80-4603-9cc2-b6bc70455dac",
   "metadata": {},
   "source": [
    "### 创建字典\n",
    "\n",
    "- `{}`创建空字典\n",
    "- `dict()`，`:`区分键和值，`,`区分键值对\n",
    "  - `dict(zip(itr_key, itr_value))` 使用两个序列的对应元素作为键值对创建字典\n",
    "- `{键值对推导式}`"
   ]
  },
  {
   "cell_type": "code",
   "execution_count": 10,
   "id": "ca7f34e6-51cc-4966-81a3-1d74ad9b6563",
   "metadata": {},
   "outputs": [
    {
     "name": "stdout",
     "output_type": "stream",
     "text": [
      "{'name': '王大锤', 'age': 55, 'weight': 60, 'home': '中同仁路8号'}\n",
      "{'A': '1', 'B': '2', 'C': '3', 'D': '4', 'E': '5'}\n",
      "{'A': 1, 'B': 2, 'C': 3, 'D': 4, 'E': 5}\n",
      "{1: 1, 2: 8, 3: 27, 4: 64, 5: 125}\n",
      "{'AAPL': 191.88, 'GOOG': 1186.96, 'IBM': 149.24, 'ACN': 166.89, 'FB': 208.09}\n"
     ]
    }
   ],
   "source": [
    "# dict函数(构造器)中的每一组参数就是字典中的一组键值对\n",
    "person = dict(name='王大锤', age=55, weight=60, home='中同仁路8号')\n",
    "print(person)  # {'name': '王大锤', 'age': 55, 'weight': 60, 'home': '中同仁路8号'}\n",
    "\n",
    "# 可以通过Python内置函数zip压缩两个序列并创建字典\n",
    "items1 = dict(zip('ABCDE', '12345'))\n",
    "print(items1)  # {'A': '1', 'B': '2', 'C': '3', 'D': '4', 'E': '5'}\n",
    "items2 = dict(zip('ABCDE', range(1, 10)))\n",
    "print(items2)  # {'A': 1, 'B': 2, 'C': 3, 'D': 4, 'E': 5}\n",
    "\n",
    "# 用字典生成式语法创建字典\n",
    "items3 = {x: x**3 for x in range(1, 6)}\n",
    "print(items3)  # {1: 1, 2: 8, 3: 27, 4: 64, 5: 125}\n",
    "\n",
    "stocks = {\n",
    "    'AAPL': 191.88,\n",
    "    'GOOG': 1186.96,\n",
    "    'IBM': 149.24,\n",
    "    'ORCL': 48.44,\n",
    "    'ACN': 166.89,\n",
    "    'FB': 208.09,\n",
    "    'SYMC': 21.29\n",
    "}\n",
    "stocks2 = {key: value for key, value in stocks.items() if value > 100}\n",
    "print(stocks2)"
   ]
  },
  {
   "cell_type": "markdown",
   "id": "93b6e05d-a0d7-4d96-aff9-2e35202eb4ac",
   "metadata": {},
   "source": [
    "### 字典的索引：键\n",
    "\n",
    "通过索引运算获取字典中的值时，如指定的键没有在字典中，将会引发`KeyError`异常。"
   ]
  },
  {
   "cell_type": "code",
   "execution_count": 8,
   "id": "306a2e75",
   "metadata": {},
   "outputs": [
    {
     "name": "stdout",
     "output_type": "stream",
     "text": [
      "True False\n",
      "{'name': '王大锤', 'age': 25, 'weight': 60, 'office': '科华北路62号'}\n",
      "True True\n",
      "6\n",
      "name: 王大锤\n",
      "age: 25\n",
      "weight: 60\n",
      "office: 科华北路62号\n",
      "tel: 13122334455\n",
      "signature: 你的男朋友是一个盖世垃圾，他会踏着五彩祥云去迎娶你的闺蜜\n"
     ]
    }
   ],
   "source": [
    "person = {'name': '王大锤', 'age': 55, 'weight': 60, 'office': '科华北路62号'}\n",
    "\n",
    "# 检查name和tel两个键在不在person字典中\n",
    "print('name' in person, 'tel' in person)  # True False\n",
    "\n",
    "# 通过age将person字典中对应的值修改为25\n",
    "if 'age' in person:\n",
    "    person['age'] = 25\n",
    "print(person)\n",
    "\n",
    "# 通过索引操作向person字典中存入新的键值对\n",
    "person['tel'] = '13122334455'\n",
    "person['signature'] = '你的男朋友是一个盖世垃圾，他会踏着五彩祥云去迎娶你的闺蜜'\n",
    "print('name' in person, 'tel' in person)  # True True\n",
    "\n",
    "# 检查person字典中键值对的数量\n",
    "print(len(person))  # 6\n",
    "\n",
    "# 对字典的键进行循环并通索引运算获取键对应的值\n",
    "for key in person:\n",
    "    print(f'{key}: {person[key]}')"
   ]
  },
  {
   "cell_type": "markdown",
   "id": "1a67099f-4447-41a7-b76e-3ca0eae9dc3f",
   "metadata": {},
   "source": [
    "### 字典的方法"
   ]
  },
  {
   "cell_type": "code",
   "execution_count": 6,
   "id": "c597ace9-a4f1-4eed-8bb2-18385ea58ccb",
   "metadata": {},
   "outputs": [],
   "source": [
    "# dir(dict)"
   ]
  },
  {
   "cell_type": "markdown",
   "id": "8b4f90c1-83fa-4473-9a54-8e24830e1146",
   "metadata": {},
   "source": [
    "\n",
    "方法|描述\n",
    "--|--\n",
    "`d.keys()`|返回字典 d 中所有的键\n",
    "`d.values()`|返回字典 d 中所有的值\n",
    "`d.items()`|返回字典 d 中所有的键值对\n",
    "||**这3个字典方法返回的分别是dict_keys、dict_values和dict_items对象，不是真正的列表，不能被修改，没有append()方法。但这些数据类型（1）可以通过for循环遍历；（2）可以通过list()或[]生成列表；（3）也可以利用多重赋值的技巧，在for循环中将键和值赋给不同的变量。**\n",
    "`k in d`/`k in d.keys()`|判断键 k 是否在字典 d 中，语法上可以省略`.keys()`\n",
    "`v in d.values()`|判断值 v 是否在字典 d 中\n",
    "`(k, v) in d.items()`|判断键值对 (k, v) 是否在字典 d 中\n",
    "`d.get(k, <default>)`|索引语法的增强版，**这个函数非常重要，可以防止因键不存在产生错误**：<font color = 'red'>键 k 存在，则返回相应值；不存在，则返回`<default>`值</font>\n",
    "`d.update(dict_new)`|更新键值对，相同的键会用新值覆盖掉旧值，不同的键会添加到字典中\n",
    "`d.pop(k, <default>)`|键 k 存在，则取出相应值，并删除该键值对；不存在，则返回`<default>`值\n",
    "`d.popitem()`|删除字典中最后一组键值对并返回对应的二元组，如果字典中没有元素，调用该方法将引发KeyError异常\n",
    "`d.setdefault(k, v)`|若键k不在字典d中，添加键值对(k, v)；若键k在字典d中，返回与这个键对应的原本的值\n",
    "`del d[k]`|删除键 k 对应的值\n",
    "`d.clear()`|清空\n",
    "`len(d)`|字典的规模\n",
    "`pprint.pprint(d)`|打印字典，每个键值对为一行\n",
    "`pprint.pformat(d)`|将字典转化为一个格式化好的大字符串，print() 可获得与 pprint() 相同的效果"
   ]
  },
  {
   "cell_type": "code",
   "execution_count": 9,
   "id": "b365beb5-0cb7-43d5-b193-486b8389a903",
   "metadata": {},
   "outputs": [
    {
     "name": "stdout",
     "output_type": "stream",
     "text": [
      "dict_items([('BMW', 8.5), ('BENS', 8.3), ('AUDI', 7.9)])\n",
      "<class 'dict_items'>\n",
      "[('BMW', 8.5), ('BENS', 8.3), ('AUDI', 7.9)]\n",
      "('BENS', 8.3)\n",
      "dict_keys(['BMW', 'BENS', 'AUDI'])\n",
      "<class 'dict_keys'>\n",
      "['BMW', 'BENS', 'AUDI']\n",
      "BENS\n",
      "dict_values([8.5, 8.3, 7.9])\n",
      "<class 'dict_values'>\n",
      "[8.5, 8.3, 7.9]\n",
      "8.3\n",
      "Key: BMW Value: 8.5\n",
      "Key: BENS Value: 8.3\n",
      "Key: AUDI Value: 7.9\n"
     ]
    }
   ],
   "source": [
    "cars = {'BMW': 8.5, 'BENS': 8.3, 'AUDI': 7.9}\n",
    "ims = cars.items() # 获取字典所有的key-value对，返回一个dict_items对象\n",
    "print(ims) # 返回结构可以遍历，但不是列表类型\n",
    "print(type(ims)) \n",
    "print(list(ims)) # 将dict_items转换成列表\n",
    "print(list(ims)[1]) # 访问第2个key-value对\n",
    "\n",
    "kys = cars.keys() # 获取字典所有的key，返回一个dict_keys对象\n",
    "print(kys)\n",
    "print(type(kys)) \n",
    "print(list(kys)) # 将dict_keys转换成列表\n",
    "print(list(kys)[1]) # 访问第2个key\n",
    "\n",
    "vals = cars.values() # 获取字典所有的value，返回一个dict_values对象\n",
    "print(vals)\n",
    "print(type(vals)) \n",
    "print(list(vals)) # 将dict_values转换成列表\n",
    "print(list(vals)[1]) # 访问第2个value\n",
    "\n",
    "for k, v in cars.items():\n",
    "    print('Key: ' + k + ' Value: ' + str(v))"
   ]
  },
  {
   "cell_type": "code",
   "execution_count": 7,
   "id": "bbdde19f-b323-47a7-be17-c995dcbf8b20",
   "metadata": {},
   "outputs": [
    {
     "name": "stdout",
     "output_type": "stream",
     "text": [
      "{'中国': '北京', '美国': '华盛顿'}\n"
     ]
    }
   ],
   "source": [
    "picnicItems = {'apples': 5, 'cups': 2}\n",
    "'I am bringing ' + str(picnicItems.get('cups', 0)) + ' cups.'\n",
    "'I am bringing ' + str(picnicItems.get('eggs', 0)) + ' eggs.'\n",
    "\n",
    "d = {'中国':'北京', '美国':'华盛顿', '法国':'巴黎'}\n",
    "'中国' in d\n",
    "d.popitem()\n",
    "print(d)"
   ]
  },
  {
   "cell_type": "code",
   "execution_count": 6,
   "id": "51c12f26-7285-4524-833f-f05dac6726a6",
   "metadata": {},
   "outputs": [
    {
     "name": "stdout",
     "output_type": "stream",
     "text": [
      "{'I': 1, 't': 6, ' ': 13, 'w': 2, 'a': 4, 's': 3, 'b': 1, 'r': 5, 'i': 6, 'g': 2, 'h': 3, 'c': 3, 'o': 2, 'l': 3, 'd': 3, 'y': 1, 'n': 4, 'A': 1, 'p': 1, ',': 1, 'e': 5, 'k': 2, '.': 1}\n",
      "{' ': 13,\n",
      " ',': 1,\n",
      " '.': 1,\n",
      " 'A': 1,\n",
      " 'I': 1,\n",
      " 'a': 4,\n",
      " 'b': 1,\n",
      " 'c': 3,\n",
      " 'd': 3,\n",
      " 'e': 5,\n",
      " 'g': 2,\n",
      " 'h': 3,\n",
      " 'i': 6,\n",
      " 'k': 2,\n",
      " 'l': 3,\n",
      " 'n': 4,\n",
      " 'o': 2,\n",
      " 'p': 1,\n",
      " 'r': 5,\n",
      " 's': 3,\n",
      " 't': 6,\n",
      " 'w': 2,\n",
      " 'y': 1}\n",
      "{' ': 13,\n",
      " ',': 1,\n",
      " '.': 1,\n",
      " 'A': 1,\n",
      " 'I': 1,\n",
      " 'a': 4,\n",
      " 'b': 1,\n",
      " 'c': 3,\n",
      " 'd': 3,\n",
      " 'e': 5,\n",
      " 'g': 2,\n",
      " 'h': 3,\n",
      " 'i': 6,\n",
      " 'k': 2,\n",
      " 'l': 3,\n",
      " 'n': 4,\n",
      " 'o': 2,\n",
      " 'p': 1,\n",
      " 'r': 5,\n",
      " 's': 3,\n",
      " 't': 6,\n",
      " 'w': 2,\n",
      " 'y': 1}\n"
     ]
    },
    {
     "data": {
      "text/plain": [
       "str"
      ]
     },
     "execution_count": 6,
     "metadata": {},
     "output_type": "execute_result"
    }
   ],
   "source": [
    "import pprint\n",
    "\n",
    "# 统计字母或单字频数的程序\n",
    "message = 'It was a bright cold day in April, and the clocks were striking thirteen.'\n",
    "count = {} # 空字典\n",
    "\n",
    "for character in message:\n",
    "    count.setdefault(character, 0) # 对于新字母，加入字典，频数为0\n",
    "    count[character] = count[character] + 1 # 频数加1\n",
    "\n",
    "print(count)\n",
    "pprint.pprint(count)\n",
    "count_format = pprint.pformat(count)\n",
    "print(count_format)\n",
    "count_format\n",
    "type(count_format)"
   ]
  },
  {
   "cell_type": "markdown",
   "id": "b2215a7c-540f-4791-9839-a7ee4b77911d",
   "metadata": {},
   "source": [
    "### 字典的遍历\n",
    "\n",
    "默认遍历键\n",
    "\n",
    "```python\n",
    "for k in d:\n",
    "    <代码块>\n",
    "```"
   ]
  },
  {
   "cell_type": "markdown",
   "id": "6b4eb337-ebe9-433b-8c71-bece2ee32c3d",
   "metadata": {},
   "source": [
    "## 集合\n",
    "\n",
    "### 元素性质\n",
    "\n",
    "- 无序，不支持索引\n",
    "- 唯一，自动去重\n",
    "- 元素类型必须为不可变的数据类型，如整数、浮点、字符串、元组等.\n",
    "\n",
    "> 因此，列表、集合就不能作为集合元素。\n",
    "\n",
    "### 建立集合\n",
    "\n",
    "- `{x, y, z, ...}`. 建立空集合必须用`set()`，因为`{}`是留给创建字典类型的\n",
    "- `set()`构造器\n",
    "- `{推导式}`\n"
   ]
  },
  {
   "cell_type": "code",
   "execution_count": 2,
   "id": "8f72f47b-492d-49f5-ba82-1c3afe3bca15",
   "metadata": {},
   "outputs": [
    {
     "data": {
      "text/plain": [
       "{'1', '2', '3', 'h', 'n', 'o', 'p', 't', 'y'}"
      ]
     },
     "execution_count": 2,
     "metadata": {},
     "output_type": "execute_result"
    }
   ],
   "source": [
    "B = set('python123') # set()将字符串拆分，每个字符作为集合的一个元素\n",
    "B "
   ]
  },
  {
   "cell_type": "code",
   "execution_count": 3,
   "id": "fb13fbc0-4d2d-49cd-be2d-1f5614a5b166",
   "metadata": {},
   "outputs": [
    {
     "data": {
      "text/plain": [
       "{123, 'A'}"
      ]
     },
     "execution_count": 3,
     "metadata": {},
     "output_type": "execute_result"
    }
   ],
   "source": [
    "C = {'A', 123, 'A', 123}\n",
    "C # 元素唯一性"
   ]
  },
  {
   "cell_type": "code",
   "execution_count": 1,
   "id": "44d2116c",
   "metadata": {},
   "outputs": [
    {
     "name": "stdout",
     "output_type": "stream",
     "text": [
      "{3, 5, 6, 9, 10, 12, 15, 18}\n"
     ]
    }
   ],
   "source": [
    "set4 = {num for num in range(1, 20) if num % 3 == 0 or num % 5 == 0}\n",
    "print(set4)  # {3, 5, 6, 9, 10, 12, 15, 18}"
   ]
  },
  {
   "cell_type": "markdown",
   "id": "afdcf22d-a628-41b4-bc05-56b442f56d08",
   "metadata": {},
   "source": [
    "### 集合关系运算\n",
    "\n",
    "<img src=\"https://github.com/jackfrued/mypic/raw/master/20210819154520.png\" width=\"90%\">\n",
    "\n",
    "`A op B`|返回\n",
    "--|--\n",
    "`&`或`set1.intersection(set2)`|交集\n",
    "`^`或`set1.symmetric_difference(set2)`或`(set1 \\| set2) - (set1 & set2)`|交集的补集，A 与 B 中的非共有元素\n",
    "`\\|`或`set1.union(set2)`|并集\n",
    "`-`或`set1.difference(set2)`|差集^[在 A 但不在 B 中的元素。] \n",
    "`<=`或`<`|判断 A 与 B 的被包含关系\n",
    "`>=`或`>`|判断 A 与 B 的包含关系\n",
    "`set1.isdisjoint(set2)`|判断两个集合有没有相同的元素\n",
    "**二元增强操作符**|运算且赋值\n",
    "`\\|=`|\n",
    "`-=`|\n",
    "`&=`|\n",
    "`^=`|"
   ]
  },
  {
   "cell_type": "code",
   "execution_count": 4,
   "id": "465de2a7",
   "metadata": {},
   "outputs": [
    {
     "name": "stdout",
     "output_type": "stream",
     "text": [
      "True True\n",
      "False True\n",
      "True\n",
      "True\n",
      "True\n",
      "False\n",
      "True\n"
     ]
    }
   ],
   "source": [
    "set1 = {1, 3, 5}\n",
    "set2 = {1, 2, 3, 4, 5}\n",
    "set3 = set2\n",
    "# <运算符表示真子集，<=运算符表示子集\n",
    "print(set1 < set2, set1 <= set2)  # True True\n",
    "print(set2 < set3, set2 <= set3)  # False True\n",
    "# 通过issubset方法也能进行子集判断\n",
    "print(set1.issubset(set2))  # True\n",
    "\n",
    "# 反过来可以用issuperset或>运算符进行超集判断\n",
    "print(set2.issuperset(set1))  # True\n",
    "print(set2 > set1)  # True\n",
    "\n",
    "# 有无相同元素\n",
    "set1 = {'Java', 'Python', 'Go', 'Kotlin'}\n",
    "set2 = {'Kotlin', 'Swift', 'Java', 'Objective-C', 'Dart'}\n",
    "set3 = {'HTML', 'CSS', 'JavaScript'}\n",
    "print(set1.isdisjoint(set2))  # False\n",
    "print(set1.isdisjoint(set3))  # True\n"
   ]
  },
  {
   "cell_type": "markdown",
   "id": "53012114-30be-48d5-925c-0c6871a661c1",
   "metadata": {},
   "source": [
    "### 集合的方法和相关函数\n",
    "\n",
    "方法和函数|说明\n",
    "--|--\n",
    "S.add(x)|添加元素\n",
    "S.discard(x)|删除，若 x 不在 S 中，不报错 \n",
    "S.remove(x)|删除，若 x 不在 S 中，报错 `KeyError`\n",
    "S.clear()|清空整个集合\n",
    "S.pop()|随机返回 S 的一个元素，将其从 S 中移除；若 S 为空，产生 KeyError 异常\n",
    "S.copy()|返回集合的一个副本\n",
    "len(S)|返回集合规模\n",
    "x in S|判断是否在其中\n",
    "x not in S|判断是否不在其中\n",
    "set(x)|将其他类型转变为集合类型"
   ]
  },
  {
   "cell_type": "code",
   "execution_count": 4,
   "id": "68e1262c-a7de-4727-81fd-e6398fb34966",
   "metadata": {},
   "outputs": [
    {
     "name": "stdout",
     "output_type": "stream",
     "text": [
      "python 123 R "
     ]
    }
   ],
   "source": [
    "A = {'python', 'R', 123}\n",
    "\n",
    "try:\n",
    "    while True:\n",
    "        print(A.pop(), end = ' ')\n",
    "except:\n",
    "    pass"
   ]
  },
  {
   "cell_type": "markdown",
   "id": "52ed48d2",
   "metadata": {},
   "source": [
    "### 不可变集合\n",
    "\n",
    "Python中还有一种不可变类型的集合，名字叫`frozenset`。`set`跟`frozenset`的区别就如同`list`跟`tuple`的区别，`frozenset`由于是不可变类型，能够计算出哈希码，因此它可以作为`set`中的元素。除了不能添加和删除元素，`frozenset`在其他方面跟`set`基本是一样的"
   ]
  },
  {
   "cell_type": "code",
   "execution_count": 5,
   "id": "059cd9a3",
   "metadata": {},
   "outputs": [
    {
     "name": "stdout",
     "output_type": "stream",
     "text": [
      "frozenset({1, 3, 5})\n",
      "frozenset({1, 2, 3, 4, 5, 7})\n",
      "frozenset({7})\n",
      "False\n"
     ]
    }
   ],
   "source": [
    "set1 = frozenset({1, 3, 5, 7})\n",
    "set2 = frozenset(range(1, 6))\n",
    "print(set1 & set2)  # frozenset({1, 3, 5})\n",
    "print(set1 | set2)  # frozenset({1, 2, 3, 4, 5, 7})\n",
    "print(set1 - set2)  # frozenset({7})\n",
    "print(set1 < set2)  # False\n"
   ]
  },
  {
   "cell_type": "markdown",
   "id": "940e1b31-98cf-4037-bc3e-6f12422c7169",
   "metadata": {},
   "source": [
    "### 应用场景：数据去重"
   ]
  },
  {
   "cell_type": "code",
   "execution_count": 5,
   "id": "9fd5eacf-cfdd-4017-8ad5-e1aca1b3f587",
   "metadata": {},
   "outputs": [
    {
     "data": {
      "text/plain": [
       "{1, 2, 3}"
      ]
     },
     "execution_count": 5,
     "metadata": {},
     "output_type": "execute_result"
    }
   ],
   "source": [
    "ls = [1, 2, 3, 2, 1]\n",
    "s = set(ls)\n",
    "s"
   ]
  }
 ],
 "metadata": {
  "kernelspec": {
   "display_name": "Python 3 (ipykernel)",
   "language": "python",
   "name": "python3"
  },
  "language_info": {
   "codemirror_mode": {
    "name": "ipython",
    "version": 3
   },
   "file_extension": ".py",
   "mimetype": "text/x-python",
   "name": "python",
   "nbconvert_exporter": "python",
   "pygments_lexer": "ipython3",
   "version": "3.8.13"
  },
  "toc-autonumbering": true,
  "toc-showcode": false,
  "toc-showmarkdowntxt": false,
  "vscode": {
   "interpreter": {
    "hash": "efb95da64b4c12e095c056777595230e4c997ec811bfcb2628ab25fe13489b58"
   }
  }
 },
 "nbformat": 4,
 "nbformat_minor": 5
}
