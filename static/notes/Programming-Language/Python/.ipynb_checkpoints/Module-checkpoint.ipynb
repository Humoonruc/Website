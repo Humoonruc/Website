{
 "cells": [
  {
   "cell_type": "markdown",
   "id": "56e74611-b4a7-4f2a-88ca-35b31fa96dd3",
   "metadata": {},
   "source": [
    "# Module"
   ]
  },
  {
   "cell_type": "markdown",
   "id": "f094669a-72d1-426e-bf38-3b9fa8889324",
   "metadata": {},
   "source": [
    "## `import` 关键字\n",
    "\n",
    "```python\n",
    "import module1\n",
    "import module2\n",
    "\n",
    "# 用“模块名.函数名”的方式（完全限定名）调用函数，\n",
    "module1.foo()    # hello, world!\n",
    "module2.foo()    # goodbye, world!\n",
    "```\n",
    "\n",
    "在导入模块时，还可以使用`as`关键字对模块进行别名，这样我们可以使用更为简短的完全限定名。\n",
    "\n",
    "```python\n",
    "import module1 as m1\n",
    "import module2 as m2\n",
    "\n",
    "m1.foo()    # hello, world!\n",
    "m2.foo()    # goodbye, world!\n",
    "```\n"
   ]
  },
  {
   "cell_type": "markdown",
   "id": "1400705d-6c3c-4dbd-be1a-81bdee80056e",
   "metadata": {},
   "source": [
    "\n",
    "### 不推荐\n",
    "\n",
    "如果不想用 `module.foo()` 形式调用函数，就有函数名冲突的危险，最好用`as`命名一个别名：\n",
    "\n",
    "```python\n",
    "from module1 import foo as f1\n",
    "from module2 import foo as f2\n",
    "\n",
    "f1()    # hello, world!\n",
    "f2()    # goodbye, world!\n",
    "```\n",
    "\n",
    "但别名并不好记，尤其不利于交流，所以不推荐这种方式"
   ]
  },
  {
   "cell_type": "code",
   "execution_count": null,
   "id": "240ec2ee-92c8-47c1-aa3e-90fb188bdd4b",
   "metadata": {},
   "outputs": [],
   "source": []
  }
 ],
 "metadata": {
  "kernelspec": {
   "display_name": "Python 3 (ipykernel)",
   "language": "python",
   "name": "python3"
  },
  "language_info": {
   "codemirror_mode": {
    "name": "ipython",
    "version": 3
   },
   "file_extension": ".py",
   "mimetype": "text/x-python",
   "name": "python",
   "nbconvert_exporter": "python",
   "pygments_lexer": "ipython3",
   "version": "3.10.5"
  }
 },
 "nbformat": 4,
 "nbformat_minor": 5
}
